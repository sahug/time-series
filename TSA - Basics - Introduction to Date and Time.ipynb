{
  "nbformat": 4,
  "nbformat_minor": 0,
  "metadata": {
    "colab": {
      "name": "TSA - Basics - Introduction to Date and Time.ipynb",
      "provenance": [],
      "collapsed_sections": [],
      "authorship_tag": "ABX9TyMhxrOcuK0YLx5LVR6onGFO",
      "include_colab_link": true
    },
    "kernelspec": {
      "name": "python3",
      "display_name": "Python 3"
    },
    "language_info": {
      "name": "python"
    }
  },
  "cells": [
    {
      "cell_type": "markdown",
      "metadata": {
        "id": "view-in-github",
        "colab_type": "text"
      },
      "source": [
        "<a href=\"https://colab.research.google.com/github/sahug/time-series/blob/main/TSA%20-%20Basics%20-%20Introduction%20to%20Date%20and%20Time.ipynb\" target=\"_parent\"><img src=\"https://colab.research.google.com/assets/colab-badge.svg\" alt=\"Open In Colab\"/></a>"
      ]
    },
    {
      "cell_type": "markdown",
      "source": [
        "**TSA - Basics - Introduction to Date and Time**"
      ],
      "metadata": {
        "id": "qchd4GQ2BOxV"
      }
    },
    {
      "cell_type": "markdown",
      "source": [
        "**Import Datasets**"
      ],
      "metadata": {
        "id": "s17LoJQZBRDI"
      }
    },
    {
      "cell_type": "code",
      "execution_count": null,
      "metadata": {
        "id": "gctCKF6VBG4G"
      },
      "outputs": [],
      "source": [
        "!pip install -q kaggle\n",
        "!mkdir -p ~/.kaggle\n",
        "!cp kaggle.json ~/.kaggle/\n",
        "!chmod 600 ~/.kaggle/kaggle.json"
      ]
    },
    {
      "cell_type": "code",
      "source": [
        "!kaggle datasets download -d szrlee/stock-time-series-20050101-to-20171231\n",
        "!kaggle datasets download -d selfishgene/historical-hourly-weather-data"
      ],
      "metadata": {
        "colab": {
          "base_uri": "https://localhost:8080/"
        },
        "id": "MtPK7MRkEWNl",
        "outputId": "e4d74f82-4b82-4ce5-e491-e89f78294469"
      },
      "execution_count": null,
      "outputs": [
        {
          "output_type": "stream",
          "name": "stdout",
          "text": [
            "Downloading stock-time-series-20050101-to-20171231.zip to /content\n",
            "\r  0% 0.00/3.03M [00:00<?, ?B/s]\n",
            "100% 3.03M/3.03M [00:00<00:00, 176MB/s]\n",
            "Downloading historical-hourly-weather-data.zip to /content\n",
            " 75% 9.00M/12.0M [00:00<00:00, 71.9MB/s]\n",
            "100% 12.0M/12.0M [00:00<00:00, 89.2MB/s]\n"
          ]
        }
      ]
    },
    {
      "cell_type": "markdown",
      "source": [
        "**Unzip**"
      ],
      "metadata": {
        "id": "UVFUDoKmE2bY"
      }
    },
    {
      "cell_type": "code",
      "source": [
        "import zipfile\n",
        "with zipfile.ZipFile(\"/content/stock-time-series-20050101-to-20171231.zip\", \"r\") as zip:\n",
        "  zip.extractall(\"/content/\")\n",
        "\n",
        "with zipfile.ZipFile(\"/content/historical-hourly-weather-data.zip\", \"r\") as zip:\n",
        "  zip.extractall(\"/content/\")  "
      ],
      "metadata": {
        "id": "0Fpy1qAxE3wG"
      },
      "execution_count": null,
      "outputs": []
    },
    {
      "cell_type": "markdown",
      "source": [
        "**Load Dataset**"
      ],
      "metadata": {
        "id": "fwkhWyIiEr2j"
      }
    },
    {
      "cell_type": "code",
      "source": [
        "import pandas as pd"
      ],
      "metadata": {
        "id": "kNAqw5SAFgyL"
      },
      "execution_count": null,
      "outputs": []
    },
    {
      "cell_type": "code",
      "source": [
        "google = pd.read_csv(\"/content/GOOGL_2006-01-01_to_2018-01-01.csv\", index_col='Date', parse_dates=['Date'])\n",
        "humidity = pd.read_csv(\"/content/humidity.csv\", index_col='datetime', parse_dates=['datetime'])"
      ],
      "metadata": {
        "id": "zHEOWCLTEtvJ"
      },
      "execution_count": null,
      "outputs": []
    },
    {
      "cell_type": "code",
      "source": [
        "google.head()"
      ],
      "metadata": {
        "colab": {
          "base_uri": "https://localhost:8080/",
          "height": 237
        },
        "id": "q4a4OM0GFpKN",
        "outputId": "d22f00dc-0212-4fa0-decd-3c0f9b435b33"
      },
      "execution_count": null,
      "outputs": [
        {
          "output_type": "execute_result",
          "data": {
            "text/plain": [
              "              Open    High     Low   Close    Volume   Name\n",
              "Date                                                       \n",
              "2006-01-03  211.47  218.05  209.32  217.83  13137450  GOOGL\n",
              "2006-01-04  222.17  224.70  220.09  222.84  15292353  GOOGL\n",
              "2006-01-05  223.22  226.00  220.97  225.85  10815661  GOOGL\n",
              "2006-01-06  228.66  235.49  226.85  233.06  17759521  GOOGL\n",
              "2006-01-09  233.44  236.94  230.70  233.68  12795837  GOOGL"
            ],
            "text/html": [
              "\n",
              "  <div id=\"df-aec77137-0154-4ce6-91f9-e1906d70e72e\">\n",
              "    <div class=\"colab-df-container\">\n",
              "      <div>\n",
              "<style scoped>\n",
              "    .dataframe tbody tr th:only-of-type {\n",
              "        vertical-align: middle;\n",
              "    }\n",
              "\n",
              "    .dataframe tbody tr th {\n",
              "        vertical-align: top;\n",
              "    }\n",
              "\n",
              "    .dataframe thead th {\n",
              "        text-align: right;\n",
              "    }\n",
              "</style>\n",
              "<table border=\"1\" class=\"dataframe\">\n",
              "  <thead>\n",
              "    <tr style=\"text-align: right;\">\n",
              "      <th></th>\n",
              "      <th>Open</th>\n",
              "      <th>High</th>\n",
              "      <th>Low</th>\n",
              "      <th>Close</th>\n",
              "      <th>Volume</th>\n",
              "      <th>Name</th>\n",
              "    </tr>\n",
              "    <tr>\n",
              "      <th>Date</th>\n",
              "      <th></th>\n",
              "      <th></th>\n",
              "      <th></th>\n",
              "      <th></th>\n",
              "      <th></th>\n",
              "      <th></th>\n",
              "    </tr>\n",
              "  </thead>\n",
              "  <tbody>\n",
              "    <tr>\n",
              "      <th>2006-01-03</th>\n",
              "      <td>211.47</td>\n",
              "      <td>218.05</td>\n",
              "      <td>209.32</td>\n",
              "      <td>217.83</td>\n",
              "      <td>13137450</td>\n",
              "      <td>GOOGL</td>\n",
              "    </tr>\n",
              "    <tr>\n",
              "      <th>2006-01-04</th>\n",
              "      <td>222.17</td>\n",
              "      <td>224.70</td>\n",
              "      <td>220.09</td>\n",
              "      <td>222.84</td>\n",
              "      <td>15292353</td>\n",
              "      <td>GOOGL</td>\n",
              "    </tr>\n",
              "    <tr>\n",
              "      <th>2006-01-05</th>\n",
              "      <td>223.22</td>\n",
              "      <td>226.00</td>\n",
              "      <td>220.97</td>\n",
              "      <td>225.85</td>\n",
              "      <td>10815661</td>\n",
              "      <td>GOOGL</td>\n",
              "    </tr>\n",
              "    <tr>\n",
              "      <th>2006-01-06</th>\n",
              "      <td>228.66</td>\n",
              "      <td>235.49</td>\n",
              "      <td>226.85</td>\n",
              "      <td>233.06</td>\n",
              "      <td>17759521</td>\n",
              "      <td>GOOGL</td>\n",
              "    </tr>\n",
              "    <tr>\n",
              "      <th>2006-01-09</th>\n",
              "      <td>233.44</td>\n",
              "      <td>236.94</td>\n",
              "      <td>230.70</td>\n",
              "      <td>233.68</td>\n",
              "      <td>12795837</td>\n",
              "      <td>GOOGL</td>\n",
              "    </tr>\n",
              "  </tbody>\n",
              "</table>\n",
              "</div>\n",
              "      <button class=\"colab-df-convert\" onclick=\"convertToInteractive('df-aec77137-0154-4ce6-91f9-e1906d70e72e')\"\n",
              "              title=\"Convert this dataframe to an interactive table.\"\n",
              "              style=\"display:none;\">\n",
              "        \n",
              "  <svg xmlns=\"http://www.w3.org/2000/svg\" height=\"24px\"viewBox=\"0 0 24 24\"\n",
              "       width=\"24px\">\n",
              "    <path d=\"M0 0h24v24H0V0z\" fill=\"none\"/>\n",
              "    <path d=\"M18.56 5.44l.94 2.06.94-2.06 2.06-.94-2.06-.94-.94-2.06-.94 2.06-2.06.94zm-11 1L8.5 8.5l.94-2.06 2.06-.94-2.06-.94L8.5 2.5l-.94 2.06-2.06.94zm10 10l.94 2.06.94-2.06 2.06-.94-2.06-.94-.94-2.06-.94 2.06-2.06.94z\"/><path d=\"M17.41 7.96l-1.37-1.37c-.4-.4-.92-.59-1.43-.59-.52 0-1.04.2-1.43.59L10.3 9.45l-7.72 7.72c-.78.78-.78 2.05 0 2.83L4 21.41c.39.39.9.59 1.41.59.51 0 1.02-.2 1.41-.59l7.78-7.78 2.81-2.81c.8-.78.8-2.07 0-2.86zM5.41 20L4 18.59l7.72-7.72 1.47 1.35L5.41 20z\"/>\n",
              "  </svg>\n",
              "      </button>\n",
              "      \n",
              "  <style>\n",
              "    .colab-df-container {\n",
              "      display:flex;\n",
              "      flex-wrap:wrap;\n",
              "      gap: 12px;\n",
              "    }\n",
              "\n",
              "    .colab-df-convert {\n",
              "      background-color: #E8F0FE;\n",
              "      border: none;\n",
              "      border-radius: 50%;\n",
              "      cursor: pointer;\n",
              "      display: none;\n",
              "      fill: #1967D2;\n",
              "      height: 32px;\n",
              "      padding: 0 0 0 0;\n",
              "      width: 32px;\n",
              "    }\n",
              "\n",
              "    .colab-df-convert:hover {\n",
              "      background-color: #E2EBFA;\n",
              "      box-shadow: 0px 1px 2px rgba(60, 64, 67, 0.3), 0px 1px 3px 1px rgba(60, 64, 67, 0.15);\n",
              "      fill: #174EA6;\n",
              "    }\n",
              "\n",
              "    [theme=dark] .colab-df-convert {\n",
              "      background-color: #3B4455;\n",
              "      fill: #D2E3FC;\n",
              "    }\n",
              "\n",
              "    [theme=dark] .colab-df-convert:hover {\n",
              "      background-color: #434B5C;\n",
              "      box-shadow: 0px 1px 3px 1px rgba(0, 0, 0, 0.15);\n",
              "      filter: drop-shadow(0px 1px 2px rgba(0, 0, 0, 0.3));\n",
              "      fill: #FFFFFF;\n",
              "    }\n",
              "  </style>\n",
              "\n",
              "      <script>\n",
              "        const buttonEl =\n",
              "          document.querySelector('#df-aec77137-0154-4ce6-91f9-e1906d70e72e button.colab-df-convert');\n",
              "        buttonEl.style.display =\n",
              "          google.colab.kernel.accessAllowed ? 'block' : 'none';\n",
              "\n",
              "        async function convertToInteractive(key) {\n",
              "          const element = document.querySelector('#df-aec77137-0154-4ce6-91f9-e1906d70e72e');\n",
              "          const dataTable =\n",
              "            await google.colab.kernel.invokeFunction('convertToInteractive',\n",
              "                                                     [key], {});\n",
              "          if (!dataTable) return;\n",
              "\n",
              "          const docLinkHtml = 'Like what you see? Visit the ' +\n",
              "            '<a target=\"_blank\" href=https://colab.research.google.com/notebooks/data_table.ipynb>data table notebook</a>'\n",
              "            + ' to learn more about interactive tables.';\n",
              "          element.innerHTML = '';\n",
              "          dataTable['output_type'] = 'display_data';\n",
              "          await google.colab.output.renderOutput(dataTable, element);\n",
              "          const docLink = document.createElement('div');\n",
              "          docLink.innerHTML = docLinkHtml;\n",
              "          element.appendChild(docLink);\n",
              "        }\n",
              "      </script>\n",
              "    </div>\n",
              "  </div>\n",
              "  "
            ]
          },
          "metadata": {},
          "execution_count": 21
        }
      ]
    },
    {
      "cell_type": "code",
      "source": [
        "humidity.head()"
      ],
      "metadata": {
        "colab": {
          "base_uri": "https://localhost:8080/",
          "height": 415
        },
        "id": "0U51k4mlFrZZ",
        "outputId": "afa7ef5d-e2d1-44f3-f77a-a48e291ad852"
      },
      "execution_count": null,
      "outputs": [
        {
          "output_type": "execute_result",
          "data": {
            "text/plain": [
              "                     Vancouver  Portland  San Francisco  Seattle  Los Angeles  \\\n",
              "datetime                                                                        \n",
              "2012-10-01 12:00:00        NaN       NaN            NaN      NaN          NaN   \n",
              "2012-10-01 13:00:00       76.0      81.0           88.0     81.0         88.0   \n",
              "2012-10-01 14:00:00       76.0      80.0           87.0     80.0         88.0   \n",
              "2012-10-01 15:00:00       76.0      80.0           86.0     80.0         88.0   \n",
              "2012-10-01 16:00:00       77.0      80.0           85.0     79.0         88.0   \n",
              "\n",
              "                     San Diego  Las Vegas  Phoenix  Albuquerque  Denver  ...  \\\n",
              "datetime                                                                 ...   \n",
              "2012-10-01 12:00:00        NaN        NaN      NaN          NaN     NaN  ...   \n",
              "2012-10-01 13:00:00       82.0       22.0     23.0         50.0    62.0  ...   \n",
              "2012-10-01 14:00:00       81.0       21.0     23.0         49.0    62.0  ...   \n",
              "2012-10-01 15:00:00       81.0       21.0     23.0         49.0    62.0  ...   \n",
              "2012-10-01 16:00:00       81.0       21.0     23.0         49.0    62.0  ...   \n",
              "\n",
              "                     Philadelphia  New York  Montreal  Boston  Beersheba  \\\n",
              "datetime                                                                   \n",
              "2012-10-01 12:00:00           NaN       NaN       NaN     NaN        NaN   \n",
              "2012-10-01 13:00:00          71.0      58.0      93.0    68.0       50.0   \n",
              "2012-10-01 14:00:00          70.0      57.0      91.0    68.0       51.0   \n",
              "2012-10-01 15:00:00          70.0      57.0      87.0    68.0       51.0   \n",
              "2012-10-01 16:00:00          69.0      57.0      84.0    68.0       52.0   \n",
              "\n",
              "                     Tel Aviv District  Eilat  Haifa  Nahariyya  Jerusalem  \n",
              "datetime                                                                    \n",
              "2012-10-01 12:00:00                NaN   25.0    NaN        NaN        NaN  \n",
              "2012-10-01 13:00:00               63.0   22.0   51.0       51.0       50.0  \n",
              "2012-10-01 14:00:00               62.0   22.0   51.0       51.0       50.0  \n",
              "2012-10-01 15:00:00               62.0   22.0   51.0       51.0       50.0  \n",
              "2012-10-01 16:00:00               62.0   22.0   51.0       51.0       50.0  \n",
              "\n",
              "[5 rows x 36 columns]"
            ],
            "text/html": [
              "\n",
              "  <div id=\"df-e98743a6-3e40-4e78-b3c0-63d3d3f1ccaa\">\n",
              "    <div class=\"colab-df-container\">\n",
              "      <div>\n",
              "<style scoped>\n",
              "    .dataframe tbody tr th:only-of-type {\n",
              "        vertical-align: middle;\n",
              "    }\n",
              "\n",
              "    .dataframe tbody tr th {\n",
              "        vertical-align: top;\n",
              "    }\n",
              "\n",
              "    .dataframe thead th {\n",
              "        text-align: right;\n",
              "    }\n",
              "</style>\n",
              "<table border=\"1\" class=\"dataframe\">\n",
              "  <thead>\n",
              "    <tr style=\"text-align: right;\">\n",
              "      <th></th>\n",
              "      <th>Vancouver</th>\n",
              "      <th>Portland</th>\n",
              "      <th>San Francisco</th>\n",
              "      <th>Seattle</th>\n",
              "      <th>Los Angeles</th>\n",
              "      <th>San Diego</th>\n",
              "      <th>Las Vegas</th>\n",
              "      <th>Phoenix</th>\n",
              "      <th>Albuquerque</th>\n",
              "      <th>Denver</th>\n",
              "      <th>...</th>\n",
              "      <th>Philadelphia</th>\n",
              "      <th>New York</th>\n",
              "      <th>Montreal</th>\n",
              "      <th>Boston</th>\n",
              "      <th>Beersheba</th>\n",
              "      <th>Tel Aviv District</th>\n",
              "      <th>Eilat</th>\n",
              "      <th>Haifa</th>\n",
              "      <th>Nahariyya</th>\n",
              "      <th>Jerusalem</th>\n",
              "    </tr>\n",
              "    <tr>\n",
              "      <th>datetime</th>\n",
              "      <th></th>\n",
              "      <th></th>\n",
              "      <th></th>\n",
              "      <th></th>\n",
              "      <th></th>\n",
              "      <th></th>\n",
              "      <th></th>\n",
              "      <th></th>\n",
              "      <th></th>\n",
              "      <th></th>\n",
              "      <th></th>\n",
              "      <th></th>\n",
              "      <th></th>\n",
              "      <th></th>\n",
              "      <th></th>\n",
              "      <th></th>\n",
              "      <th></th>\n",
              "      <th></th>\n",
              "      <th></th>\n",
              "      <th></th>\n",
              "      <th></th>\n",
              "    </tr>\n",
              "  </thead>\n",
              "  <tbody>\n",
              "    <tr>\n",
              "      <th>2012-10-01 12:00:00</th>\n",
              "      <td>NaN</td>\n",
              "      <td>NaN</td>\n",
              "      <td>NaN</td>\n",
              "      <td>NaN</td>\n",
              "      <td>NaN</td>\n",
              "      <td>NaN</td>\n",
              "      <td>NaN</td>\n",
              "      <td>NaN</td>\n",
              "      <td>NaN</td>\n",
              "      <td>NaN</td>\n",
              "      <td>...</td>\n",
              "      <td>NaN</td>\n",
              "      <td>NaN</td>\n",
              "      <td>NaN</td>\n",
              "      <td>NaN</td>\n",
              "      <td>NaN</td>\n",
              "      <td>NaN</td>\n",
              "      <td>25.0</td>\n",
              "      <td>NaN</td>\n",
              "      <td>NaN</td>\n",
              "      <td>NaN</td>\n",
              "    </tr>\n",
              "    <tr>\n",
              "      <th>2012-10-01 13:00:00</th>\n",
              "      <td>76.0</td>\n",
              "      <td>81.0</td>\n",
              "      <td>88.0</td>\n",
              "      <td>81.0</td>\n",
              "      <td>88.0</td>\n",
              "      <td>82.0</td>\n",
              "      <td>22.0</td>\n",
              "      <td>23.0</td>\n",
              "      <td>50.0</td>\n",
              "      <td>62.0</td>\n",
              "      <td>...</td>\n",
              "      <td>71.0</td>\n",
              "      <td>58.0</td>\n",
              "      <td>93.0</td>\n",
              "      <td>68.0</td>\n",
              "      <td>50.0</td>\n",
              "      <td>63.0</td>\n",
              "      <td>22.0</td>\n",
              "      <td>51.0</td>\n",
              "      <td>51.0</td>\n",
              "      <td>50.0</td>\n",
              "    </tr>\n",
              "    <tr>\n",
              "      <th>2012-10-01 14:00:00</th>\n",
              "      <td>76.0</td>\n",
              "      <td>80.0</td>\n",
              "      <td>87.0</td>\n",
              "      <td>80.0</td>\n",
              "      <td>88.0</td>\n",
              "      <td>81.0</td>\n",
              "      <td>21.0</td>\n",
              "      <td>23.0</td>\n",
              "      <td>49.0</td>\n",
              "      <td>62.0</td>\n",
              "      <td>...</td>\n",
              "      <td>70.0</td>\n",
              "      <td>57.0</td>\n",
              "      <td>91.0</td>\n",
              "      <td>68.0</td>\n",
              "      <td>51.0</td>\n",
              "      <td>62.0</td>\n",
              "      <td>22.0</td>\n",
              "      <td>51.0</td>\n",
              "      <td>51.0</td>\n",
              "      <td>50.0</td>\n",
              "    </tr>\n",
              "    <tr>\n",
              "      <th>2012-10-01 15:00:00</th>\n",
              "      <td>76.0</td>\n",
              "      <td>80.0</td>\n",
              "      <td>86.0</td>\n",
              "      <td>80.0</td>\n",
              "      <td>88.0</td>\n",
              "      <td>81.0</td>\n",
              "      <td>21.0</td>\n",
              "      <td>23.0</td>\n",
              "      <td>49.0</td>\n",
              "      <td>62.0</td>\n",
              "      <td>...</td>\n",
              "      <td>70.0</td>\n",
              "      <td>57.0</td>\n",
              "      <td>87.0</td>\n",
              "      <td>68.0</td>\n",
              "      <td>51.0</td>\n",
              "      <td>62.0</td>\n",
              "      <td>22.0</td>\n",
              "      <td>51.0</td>\n",
              "      <td>51.0</td>\n",
              "      <td>50.0</td>\n",
              "    </tr>\n",
              "    <tr>\n",
              "      <th>2012-10-01 16:00:00</th>\n",
              "      <td>77.0</td>\n",
              "      <td>80.0</td>\n",
              "      <td>85.0</td>\n",
              "      <td>79.0</td>\n",
              "      <td>88.0</td>\n",
              "      <td>81.0</td>\n",
              "      <td>21.0</td>\n",
              "      <td>23.0</td>\n",
              "      <td>49.0</td>\n",
              "      <td>62.0</td>\n",
              "      <td>...</td>\n",
              "      <td>69.0</td>\n",
              "      <td>57.0</td>\n",
              "      <td>84.0</td>\n",
              "      <td>68.0</td>\n",
              "      <td>52.0</td>\n",
              "      <td>62.0</td>\n",
              "      <td>22.0</td>\n",
              "      <td>51.0</td>\n",
              "      <td>51.0</td>\n",
              "      <td>50.0</td>\n",
              "    </tr>\n",
              "  </tbody>\n",
              "</table>\n",
              "<p>5 rows × 36 columns</p>\n",
              "</div>\n",
              "      <button class=\"colab-df-convert\" onclick=\"convertToInteractive('df-e98743a6-3e40-4e78-b3c0-63d3d3f1ccaa')\"\n",
              "              title=\"Convert this dataframe to an interactive table.\"\n",
              "              style=\"display:none;\">\n",
              "        \n",
              "  <svg xmlns=\"http://www.w3.org/2000/svg\" height=\"24px\"viewBox=\"0 0 24 24\"\n",
              "       width=\"24px\">\n",
              "    <path d=\"M0 0h24v24H0V0z\" fill=\"none\"/>\n",
              "    <path d=\"M18.56 5.44l.94 2.06.94-2.06 2.06-.94-2.06-.94-.94-2.06-.94 2.06-2.06.94zm-11 1L8.5 8.5l.94-2.06 2.06-.94-2.06-.94L8.5 2.5l-.94 2.06-2.06.94zm10 10l.94 2.06.94-2.06 2.06-.94-2.06-.94-.94-2.06-.94 2.06-2.06.94z\"/><path d=\"M17.41 7.96l-1.37-1.37c-.4-.4-.92-.59-1.43-.59-.52 0-1.04.2-1.43.59L10.3 9.45l-7.72 7.72c-.78.78-.78 2.05 0 2.83L4 21.41c.39.39.9.59 1.41.59.51 0 1.02-.2 1.41-.59l7.78-7.78 2.81-2.81c.8-.78.8-2.07 0-2.86zM5.41 20L4 18.59l7.72-7.72 1.47 1.35L5.41 20z\"/>\n",
              "  </svg>\n",
              "      </button>\n",
              "      \n",
              "  <style>\n",
              "    .colab-df-container {\n",
              "      display:flex;\n",
              "      flex-wrap:wrap;\n",
              "      gap: 12px;\n",
              "    }\n",
              "\n",
              "    .colab-df-convert {\n",
              "      background-color: #E8F0FE;\n",
              "      border: none;\n",
              "      border-radius: 50%;\n",
              "      cursor: pointer;\n",
              "      display: none;\n",
              "      fill: #1967D2;\n",
              "      height: 32px;\n",
              "      padding: 0 0 0 0;\n",
              "      width: 32px;\n",
              "    }\n",
              "\n",
              "    .colab-df-convert:hover {\n",
              "      background-color: #E2EBFA;\n",
              "      box-shadow: 0px 1px 2px rgba(60, 64, 67, 0.3), 0px 1px 3px 1px rgba(60, 64, 67, 0.15);\n",
              "      fill: #174EA6;\n",
              "    }\n",
              "\n",
              "    [theme=dark] .colab-df-convert {\n",
              "      background-color: #3B4455;\n",
              "      fill: #D2E3FC;\n",
              "    }\n",
              "\n",
              "    [theme=dark] .colab-df-convert:hover {\n",
              "      background-color: #434B5C;\n",
              "      box-shadow: 0px 1px 3px 1px rgba(0, 0, 0, 0.15);\n",
              "      filter: drop-shadow(0px 1px 2px rgba(0, 0, 0, 0.3));\n",
              "      fill: #FFFFFF;\n",
              "    }\n",
              "  </style>\n",
              "\n",
              "      <script>\n",
              "        const buttonEl =\n",
              "          document.querySelector('#df-e98743a6-3e40-4e78-b3c0-63d3d3f1ccaa button.colab-df-convert');\n",
              "        buttonEl.style.display =\n",
              "          google.colab.kernel.accessAllowed ? 'block' : 'none';\n",
              "\n",
              "        async function convertToInteractive(key) {\n",
              "          const element = document.querySelector('#df-e98743a6-3e40-4e78-b3c0-63d3d3f1ccaa');\n",
              "          const dataTable =\n",
              "            await google.colab.kernel.invokeFunction('convertToInteractive',\n",
              "                                                     [key], {});\n",
              "          if (!dataTable) return;\n",
              "\n",
              "          const docLinkHtml = 'Like what you see? Visit the ' +\n",
              "            '<a target=\"_blank\" href=https://colab.research.google.com/notebooks/data_table.ipynb>data table notebook</a>'\n",
              "            + ' to learn more about interactive tables.';\n",
              "          element.innerHTML = '';\n",
              "          dataTable['output_type'] = 'display_data';\n",
              "          await google.colab.output.renderOutput(dataTable, element);\n",
              "          const docLink = document.createElement('div');\n",
              "          docLink.innerHTML = docLinkHtml;\n",
              "          element.appendChild(docLink);\n",
              "        }\n",
              "      </script>\n",
              "    </div>\n",
              "  </div>\n",
              "  "
            ]
          },
          "metadata": {},
          "execution_count": 14
        }
      ]
    },
    {
      "cell_type": "markdown",
      "source": [
        "**Data Preperation**"
      ],
      "metadata": {
        "id": "eHoDrCjqGSux"
      }
    },
    {
      "cell_type": "code",
      "source": [
        "humidity.isna().sum()"
      ],
      "metadata": {
        "colab": {
          "base_uri": "https://localhost:8080/"
        },
        "id": "Dp-OdGyxGU8T",
        "outputId": "3f130c35-e9b3-4224-d064-c40280284dd5"
      },
      "execution_count": null,
      "outputs": [
        {
          "output_type": "execute_result",
          "data": {
            "text/plain": [
              "Vancouver            1826\n",
              "Portland              449\n",
              "San Francisco         942\n",
              "Seattle               289\n",
              "Los Angeles           152\n",
              "San Diego             344\n",
              "Las Vegas             842\n",
              "Phoenix              1308\n",
              "Albuquerque           710\n",
              "Denver               1808\n",
              "San Antonio           564\n",
              "Dallas                319\n",
              "Houston               121\n",
              "Kansas City           512\n",
              "Minneapolis           510\n",
              "Saint Louis          1289\n",
              "Chicago              1109\n",
              "Nashville             567\n",
              "Indianapolis          695\n",
              "Atlanta               422\n",
              "Detroit               862\n",
              "Jacksonville          209\n",
              "Charlotte             589\n",
              "Miami                1087\n",
              "Pittsburgh            522\n",
              "Toronto               728\n",
              "Philadelphia          624\n",
              "New York             1624\n",
              "Montreal             1696\n",
              "Boston                449\n",
              "Beersheba             859\n",
              "Tel Aviv District    1113\n",
              "Eilat                 970\n",
              "Haifa                 818\n",
              "Nahariyya             817\n",
              "Jerusalem             906\n",
              "dtype: int64"
            ]
          },
          "metadata": {},
          "execution_count": 15
        }
      ]
    },
    {
      "cell_type": "code",
      "source": [
        "humidity = humidity.iloc[1:]\n",
        "humidity = humidity.fillna(method=\"ffill\")\n",
        "humidity.isna().sum()"
      ],
      "metadata": {
        "colab": {
          "base_uri": "https://localhost:8080/"
        },
        "id": "YYXmY4f7Ghv2",
        "outputId": "bdbe9143-da98-4c35-c08b-6a8e83f9904f"
      },
      "execution_count": null,
      "outputs": [
        {
          "output_type": "execute_result",
          "data": {
            "text/plain": [
              "Vancouver            0\n",
              "Portland             0\n",
              "San Francisco        0\n",
              "Seattle              0\n",
              "Los Angeles          0\n",
              "San Diego            0\n",
              "Las Vegas            0\n",
              "Phoenix              0\n",
              "Albuquerque          0\n",
              "Denver               0\n",
              "San Antonio          0\n",
              "Dallas               0\n",
              "Houston              0\n",
              "Kansas City          0\n",
              "Minneapolis          0\n",
              "Saint Louis          0\n",
              "Chicago              0\n",
              "Nashville            0\n",
              "Indianapolis         0\n",
              "Atlanta              0\n",
              "Detroit              0\n",
              "Jacksonville         0\n",
              "Charlotte            0\n",
              "Miami                0\n",
              "Pittsburgh           0\n",
              "Toronto              0\n",
              "Philadelphia         0\n",
              "New York             0\n",
              "Montreal             0\n",
              "Boston               0\n",
              "Beersheba            0\n",
              "Tel Aviv District    0\n",
              "Eilat                0\n",
              "Haifa                0\n",
              "Nahariyya            0\n",
              "Jerusalem            0\n",
              "dtype: int64"
            ]
          },
          "metadata": {},
          "execution_count": 16
        }
      ]
    },
    {
      "cell_type": "code",
      "source": [
        "google.isna().sum()"
      ],
      "metadata": {
        "colab": {
          "base_uri": "https://localhost:8080/"
        },
        "id": "AQtYM4BPGem5",
        "outputId": "793cd83f-b6c1-4efe-f1d1-d5992d3533f5"
      },
      "execution_count": null,
      "outputs": [
        {
          "output_type": "execute_result",
          "data": {
            "text/plain": [
              "Date      0\n",
              "Open      0\n",
              "High      0\n",
              "Low       0\n",
              "Close     0\n",
              "Volume    0\n",
              "Name      0\n",
              "dtype: int64"
            ]
          },
          "metadata": {},
          "execution_count": 11
        }
      ]
    },
    {
      "cell_type": "markdown",
      "source": [
        "**Visualization**"
      ],
      "metadata": {
        "id": "mdZusik7G-WG"
      }
    },
    {
      "cell_type": "code",
      "source": [
        "import matplotlib.pyplot as plt"
      ],
      "metadata": {
        "id": "GRDG0oLeHiCf"
      },
      "execution_count": null,
      "outputs": []
    },
    {
      "cell_type": "code",
      "source": [
        "# asfreq - Converts a time series to a specified frequency.\n",
        "# M - Monthly\n",
        "plt.figure(figsize=(25, 5))\n",
        "humidity[\"Kansas City\"].asfreq(\"M\").plot()\n",
        "plt.title(\"Monthly - Humidity - Kansas City\")\n",
        "plt.show()"
      ],
      "metadata": {
        "colab": {
          "base_uri": "https://localhost:8080/",
          "height": 334
        },
        "id": "JVRmD2hkHNpU",
        "outputId": "103f8f8a-6f9c-401a-f451-033ee6286abe"
      },
      "execution_count": null,
      "outputs": [
        {
          "output_type": "display_data",
          "data": {
            "text/plain": [
              "<Figure size 1800x360 with 1 Axes>"
            ],
            "image/png": "[encoded data removed]"
          },
          "metadata": {
            "needs_background": "light"
          }
        }
      ]
    },
    {
      "cell_type": "code",
      "source": [
        "google[\"2008\":\"2010\"].plot(subplots=True, figsize=(25, 5))\n",
        "plt.title(\"2008 - 10 - Stock Price - Google\")\n",
        "plt.show()"
      ],
      "metadata": {
        "colab": {
          "base_uri": "https://localhost:8080/",
          "height": 326
        },
        "id": "-zbwD8_SIDaJ",
        "outputId": "26a8b9ca-80b4-4d11-d0e1-60167174562c"
      },
      "execution_count": null,
      "outputs": [
        {
          "output_type": "display_data",
          "data": {
            "text/plain": [
              "<Figure size 1800x360 with 5 Axes>"
            ],
            "image/png": "[encoded data removed]"
          },
          "metadata": {
            "needs_background": "light"
          }
        }
      ]
    },
    {
      "cell_type": "markdown",
      "source": [
        "**Timestamps and Periods**\n",
        "- Timestamps are used to represent a point in time. \n",
        "- Periods represent an interval in time. \n",
        "- They can also be converted to each other's form.\n",
        "\n"
      ],
      "metadata": {
        "id": "CuHiKF7dIqS9"
      }
    },
    {
      "cell_type": "markdown",
      "source": [
        "**Create Timestamp**"
      ],
      "metadata": {
        "id": "CLZjUwhHJ5yk"
      }
    },
    {
      "cell_type": "code",
      "source": [
        "from pandas._libs.tslibs import timestamps\n",
        "timestamp = pd.Timestamp(2017, 1, 1, 12)\n",
        "timestamp"
      ],
      "metadata": {
        "colab": {
          "base_uri": "https://localhost:8080/"
        },
        "id": "xqWv-RQbJvF3",
        "outputId": "bedf2c30-d6f6-4a38-f8b4-6c3d0d9c84b6"
      },
      "execution_count": null,
      "outputs": [
        {
          "output_type": "execute_result",
          "data": {
            "text/plain": [
              "Timestamp('2017-01-01 12:00:00')"
            ]
          },
          "metadata": {},
          "execution_count": 23
        }
      ]
    },
    {
      "cell_type": "markdown",
      "source": [
        "**Create Period**"
      ],
      "metadata": {
        "id": "N0QithaAKGag"
      }
    },
    {
      "cell_type": "code",
      "source": [
        "period = pd.Period(\"2017-01-01\")\n",
        "period"
      ],
      "metadata": {
        "colab": {
          "base_uri": "https://localhost:8080/"
        },
        "id": "IXXhGKxPK7tS",
        "outputId": "25cbed92-b101-4794-8f37-2be2a6732f31"
      },
      "execution_count": null,
      "outputs": [
        {
          "output_type": "execute_result",
          "data": {
            "text/plain": [
              "Period('2017-01-01', 'D')"
            ]
          },
          "metadata": {},
          "execution_count": 24
        }
      ]
    },
    {
      "cell_type": "markdown",
      "source": [
        "Check if the given timestamp exists in the given period"
      ],
      "metadata": {
        "id": "nYuXfr8HLHsR"
      }
    },
    {
      "cell_type": "code",
      "source": [
        "period.start_time < timestamp < period.end_time"
      ],
      "metadata": {
        "colab": {
          "base_uri": "https://localhost:8080/"
        },
        "id": "PYMHagXcLJtq",
        "outputId": "4f3d8c99-9fbb-4133-8a8d-7de9fd2c79c5"
      },
      "execution_count": null,
      "outputs": [
        {
          "output_type": "execute_result",
          "data": {
            "text/plain": [
              "True"
            ]
          },
          "metadata": {},
          "execution_count": 25
        }
      ]
    },
    {
      "cell_type": "markdown",
      "source": [
        "Convert timestamp to period"
      ],
      "metadata": {
        "id": "I5JYOSn6LxmI"
      }
    },
    {
      "cell_type": "code",
      "source": [
        "n_period = timestamp.to_period(freq=\"H\")\n",
        "n_period"
      ],
      "metadata": {
        "colab": {
          "base_uri": "https://localhost:8080/"
        },
        "id": "T2C__EykLzjU",
        "outputId": "2b33e83e-93e5-4af2-b137-7caee742f06c"
      },
      "execution_count": null,
      "outputs": [
        {
          "output_type": "execute_result",
          "data": {
            "text/plain": [
              "Period('2017-01-01 12:00', 'H')"
            ]
          },
          "metadata": {},
          "execution_count": 26
        }
      ]
    },
    {
      "cell_type": "markdown",
      "source": [
        "Convert period to timestamp"
      ],
      "metadata": {
        "id": "0xb7rfoiL9vj"
      }
    },
    {
      "cell_type": "code",
      "source": [
        "n_timestamp = period.to_timestamp(freq=\"H\", how=\"start\")\n",
        "n_timestamp"
      ],
      "metadata": {
        "colab": {
          "base_uri": "https://localhost:8080/"
        },
        "id": "V2p0dJ8PL_pI",
        "outputId": "e612b8dd-2c39-4017-dbed-1e71df435a97"
      },
      "execution_count": null,
      "outputs": [
        {
          "output_type": "execute_result",
          "data": {
            "text/plain": [
              "Timestamp('2017-01-01 00:00:00')"
            ]
          },
          "metadata": {},
          "execution_count": 27
        }
      ]
    },
    {
      "cell_type": "markdown",
      "source": [
        "**Date Range**\n",
        "\n",
        "`date_range` is a method that returns a fixed frequency datetimeindex. It is quite useful when creating your own time series attribute for pre-existing data or arranging the whole data around the time series attribute created by you."
      ],
      "metadata": {
        "id": "VSsD4PqXMKHP"
      }
    },
    {
      "cell_type": "markdown",
      "source": [
        "Create a `datetimeindex` with daily frequency"
      ],
      "metadata": {
        "id": "n2Zr-vGEMdp2"
      }
    },
    {
      "cell_type": "code",
      "source": [
        "dr = pd.date_range(start=\"1/1/18\", end=\"1/9/18\")\n",
        "dr"
      ],
      "metadata": {
        "colab": {
          "base_uri": "https://localhost:8080/"
        },
        "id": "3d0Ws5YZMXE5",
        "outputId": "f926e590-c541-41d6-f76a-65961c7b4fe4"
      },
      "execution_count": null,
      "outputs": [
        {
          "output_type": "execute_result",
          "data": {
            "text/plain": [
              "DatetimeIndex(['2018-01-01', '2018-01-02', '2018-01-03', '2018-01-04',\n",
              "               '2018-01-05', '2018-01-06', '2018-01-07', '2018-01-08',\n",
              "               '2018-01-09'],\n",
              "              dtype='datetime64[ns]', freq='D')"
            ]
          },
          "metadata": {},
          "execution_count": 29
        }
      ]
    },
    {
      "cell_type": "markdown",
      "source": [
        "Create a `datetimeindex` with monthly frequency"
      ],
      "metadata": {
        "id": "djU2ATaAMro_"
      }
    },
    {
      "cell_type": "code",
      "source": [
        "dr = pd.date_range(start=\"1/1/18\", end=\"1/9/19\", freq=\"M\")\n",
        "dr"
      ],
      "metadata": {
        "colab": {
          "base_uri": "https://localhost:8080/"
        },
        "id": "AusC2BqvMsX3",
        "outputId": "4f631efc-ebdc-4209-8346-7e546397ff9f"
      },
      "execution_count": null,
      "outputs": [
        {
          "output_type": "execute_result",
          "data": {
            "text/plain": [
              "DatetimeIndex(['2018-01-31', '2018-02-28', '2018-03-31', '2018-04-30',\n",
              "               '2018-05-31', '2018-06-30', '2018-07-31', '2018-08-31',\n",
              "               '2018-09-30', '2018-10-31', '2018-11-30', '2018-12-31'],\n",
              "              dtype='datetime64[ns]', freq='M')"
            ]
          },
          "metadata": {},
          "execution_count": 31
        }
      ]
    },
    {
      "cell_type": "markdown",
      "source": [
        "Create datetimeindex without specifying start date"
      ],
      "metadata": {
        "id": "UV6jQdsHNN1g"
      }
    },
    {
      "cell_type": "code",
      "source": [
        "dr = pd.date_range(end=\"1/9/19\", periods=8)\n",
        "dr"
      ],
      "metadata": {
        "colab": {
          "base_uri": "https://localhost:8080/"
        },
        "id": "pSlcp2jYNS6i",
        "outputId": "c7faa3b7-750b-43b8-86d3-ddc09103ced8"
      },
      "execution_count": null,
      "outputs": [
        {
          "output_type": "execute_result",
          "data": {
            "text/plain": [
              "DatetimeIndex(['2019-01-02', '2019-01-03', '2019-01-04', '2019-01-05',\n",
              "               '2019-01-06', '2019-01-07', '2019-01-08', '2019-01-09'],\n",
              "              dtype='datetime64[ns]', freq='D')"
            ]
          },
          "metadata": {},
          "execution_count": 33
        }
      ]
    },
    {
      "cell_type": "markdown",
      "source": [
        "Create datetimeindex with start, end and period"
      ],
      "metadata": {
        "id": "vujXrAKNNiLG"
      }
    },
    {
      "cell_type": "code",
      "source": [
        "dr = pd.date_range(start=\"1/1/18\", end=\"1/9/19\", periods=3)\n",
        "dr"
      ],
      "metadata": {
        "colab": {
          "base_uri": "https://localhost:8080/"
        },
        "id": "JSXAiVxlNnVT",
        "outputId": "fdc88986-d966-4726-a1e6-62ec0b0d7998"
      },
      "execution_count": null,
      "outputs": [
        {
          "output_type": "execute_result",
          "data": {
            "text/plain": [
              "DatetimeIndex(['2018-01-01 00:00:00', '2018-07-06 12:00:00',\n",
              "               '2019-01-09 00:00:00'],\n",
              "              dtype='datetime64[ns]', freq=None)"
            ]
          },
          "metadata": {},
          "execution_count": 34
        }
      ]
    },
    {
      "cell_type": "markdown",
      "source": [
        "**to_datetime**\n",
        "\n",
        "Used for convert arguments to datetime"
      ],
      "metadata": {
        "id": "OWv1plgtNyt8"
      }
    },
    {
      "cell_type": "code",
      "source": [
        "df = pd.DataFrame({\"year\": [2015, 2016], \"month\": [2, 3], \"day\": [4, 5]})\n",
        "df"
      ],
      "metadata": {
        "colab": {
          "base_uri": "https://localhost:8080/"
        },
        "id": "Uai0Ft8CN1VX",
        "outputId": "99670aab-6062-4e21-9755-06ff4fc58336"
      },
      "execution_count": null,
      "outputs": [
        {
          "output_type": "stream",
          "name": "stdout",
          "text": [
            "   year  month  day\n",
            "0  2015      2    4\n",
            "1  2016      3    5\n"
          ]
        }
      ]
    },
    {
      "cell_type": "code",
      "source": [
        "df = pd.to_datetime(df)\n",
        "df"
      ],
      "metadata": {
        "colab": {
          "base_uri": "https://localhost:8080/"
        },
        "id": "F3NB-wPJOZYd",
        "outputId": "535063ad-c16b-4e91-c49a-49b3b2ebfca7"
      },
      "execution_count": null,
      "outputs": [
        {
          "output_type": "execute_result",
          "data": {
            "text/plain": [
              "0   2015-02-04\n",
              "1   2016-03-05\n",
              "dtype: datetime64[ns]"
            ]
          },
          "metadata": {},
          "execution_count": 37
        }
      ]
    },
    {
      "cell_type": "code",
      "source": [
        "df = pd.to_datetime(\"01-01-2017\")\n",
        "df"
      ],
      "metadata": {
        "colab": {
          "base_uri": "https://localhost:8080/"
        },
        "id": "8vIqvVdIOiFI",
        "outputId": "1a6eceff-ff79-40f6-9a89-3229798794f7"
      },
      "execution_count": null,
      "outputs": [
        {
          "output_type": "execute_result",
          "data": {
            "text/plain": [
              "Timestamp('2017-01-01 00:00:00')"
            ]
          },
          "metadata": {},
          "execution_count": 38
        }
      ]
    },
    {
      "cell_type": "markdown",
      "source": [
        "**Shifting and Lags**\n",
        "\n",
        "We can shift index by desired number of periods with an optional time frequency. This is useful when comparing the time series with a past of itself"
      ],
      "metadata": {
        "id": "u36jrS6LOngf"
      }
    },
    {
      "cell_type": "code",
      "source": [
        "plt.figure(figsize=(25, 5))\n",
        "humidity[\"Vancouver\"].asfreq(\"M\").plot(legend=True)\n",
        "shifted = humidity[\"Vancouver\"].asfreq(\"M\").shift(10).plot(legend=True)\n",
        "shifted.legend([\"Vancouver\", \"Vancouver Lag\"])\n",
        "plt.show()"
      ],
      "metadata": {
        "colab": {
          "base_uri": "https://localhost:8080/",
          "height": 318
        },
        "id": "ABBbOzrpOuJM",
        "outputId": "63c8e1f1-8ad8-4874-f802-eade1c148b47"
      },
      "execution_count": null,
      "outputs": [
        {
          "output_type": "display_data",
          "data": {
            "text/plain": [
              "<Figure size 1800x360 with 1 Axes>"
            ],
            "image/png": "[encoded data removed]"
          },
          "metadata": {
            "needs_background": "light"
          }
        }
      ]
    },
    {
      "cell_type": "markdown",
      "source": [
        "**Resampling**\n",
        "\n",
        "- **Upsampling** - Time series is resampled from low frequency to high frequency(Monthly to daily frequency). It involves filling or interpolating missing data\n",
        "- **Downsampling** - Time series is resampled from high frequency to low frequency(Weekly to monthly frequency). It involves aggregation of existing data."
      ],
      "metadata": {
        "id": "eBRVwct_Pkza"
      }
    },
    {
      "cell_type": "code",
      "source": [
        "pressure = pd.read_csv(\"/content/pressure.csv\", index_col=\"datetime\", parse_dates=[\"datetime\"])\n",
        "pressure.head()"
      ],
      "metadata": {
        "colab": {
          "base_uri": "https://localhost:8080/",
          "height": 415
        },
        "id": "iWgbyN0UPvDL",
        "outputId": "55686015-696b-46ae-df6f-8dccdd5a3a8e"
      },
      "execution_count": null,
      "outputs": [
        {
          "output_type": "execute_result",
          "data": {
            "text/plain": [
              "                     Vancouver  Portland  San Francisco  Seattle  Los Angeles  \\\n",
              "datetime                                                                        \n",
              "2012-10-01 12:00:00        NaN       NaN            NaN      NaN          NaN   \n",
              "2012-10-01 13:00:00        NaN    1024.0         1009.0   1027.0       1013.0   \n",
              "2012-10-01 14:00:00        NaN    1024.0         1009.0   1027.0       1013.0   \n",
              "2012-10-01 15:00:00        NaN    1024.0         1009.0   1028.0       1013.0   \n",
              "2012-10-01 16:00:00        NaN    1024.0         1009.0   1028.0       1013.0   \n",
              "\n",
              "                     San Diego  Las Vegas  Phoenix  Albuquerque  Denver  ...  \\\n",
              "datetime                                                                 ...   \n",
              "2012-10-01 12:00:00        NaN        NaN      NaN          NaN     NaN  ...   \n",
              "2012-10-01 13:00:00     1013.0     1018.0   1013.0       1024.0  1028.0  ...   \n",
              "2012-10-01 14:00:00     1013.0     1018.0   1013.0       1024.0  1028.0  ...   \n",
              "2012-10-01 15:00:00     1013.0     1018.0   1013.0       1024.0  1028.0  ...   \n",
              "2012-10-01 16:00:00     1013.0     1018.0   1013.0       1024.0  1028.0  ...   \n",
              "\n",
              "                     Philadelphia  New York  Montreal  Boston  Beersheba  \\\n",
              "datetime                                                                   \n",
              "2012-10-01 12:00:00           NaN       NaN       NaN     NaN        NaN   \n",
              "2012-10-01 13:00:00        1014.0    1012.0    1001.0  1014.0      984.0   \n",
              "2012-10-01 14:00:00        1014.0    1012.0     986.0  1014.0      984.0   \n",
              "2012-10-01 15:00:00        1014.0    1012.0     945.0  1014.0      984.0   \n",
              "2012-10-01 16:00:00        1014.0    1012.0     904.0  1014.0      984.0   \n",
              "\n",
              "                     Tel Aviv District   Eilat   Haifa  Nahariyya  Jerusalem  \n",
              "datetime                                                                      \n",
              "2012-10-01 12:00:00                NaN  1011.0     NaN        NaN        NaN  \n",
              "2012-10-01 13:00:00             1012.0  1010.0  1013.0     1013.0      990.0  \n",
              "2012-10-01 14:00:00             1012.0  1010.0  1013.0     1013.0      990.0  \n",
              "2012-10-01 15:00:00             1012.0  1010.0  1013.0     1013.0      990.0  \n",
              "2012-10-01 16:00:00             1012.0  1010.0  1013.0     1013.0      990.0  \n",
              "\n",
              "[5 rows x 36 columns]"
            ],
            "text/html": [
              "\n",
              "  <div id=\"df-0482e7da-c3c8-44ea-a179-ca6bbb391109\">\n",
              "    <div class=\"colab-df-container\">\n",
              "      <div>\n",
              "<style scoped>\n",
              "    .dataframe tbody tr th:only-of-type {\n",
              "        vertical-align: middle;\n",
              "    }\n",
              "\n",
              "    .dataframe tbody tr th {\n",
              "        vertical-align: top;\n",
              "    }\n",
              "\n",
              "    .dataframe thead th {\n",
              "        text-align: right;\n",
              "    }\n",
              "</style>\n",
              "<table border=\"1\" class=\"dataframe\">\n",
              "  <thead>\n",
              "    <tr style=\"text-align: right;\">\n",
              "      <th></th>\n",
              "      <th>Vancouver</th>\n",
              "      <th>Portland</th>\n",
              "      <th>San Francisco</th>\n",
              "      <th>Seattle</th>\n",
              "      <th>Los Angeles</th>\n",
              "      <th>San Diego</th>\n",
              "      <th>Las Vegas</th>\n",
              "      <th>Phoenix</th>\n",
              "      <th>Albuquerque</th>\n",
              "      <th>Denver</th>\n",
              "      <th>...</th>\n",
              "      <th>Philadelphia</th>\n",
              "      <th>New York</th>\n",
              "      <th>Montreal</th>\n",
              "      <th>Boston</th>\n",
              "      <th>Beersheba</th>\n",
              "      <th>Tel Aviv District</th>\n",
              "      <th>Eilat</th>\n",
              "      <th>Haifa</th>\n",
              "      <th>Nahariyya</th>\n",
              "      <th>Jerusalem</th>\n",
              "    </tr>\n",
              "    <tr>\n",
              "      <th>datetime</th>\n",
              "      <th></th>\n",
              "      <th></th>\n",
              "      <th></th>\n",
              "      <th></th>\n",
              "      <th></th>\n",
              "      <th></th>\n",
              "      <th></th>\n",
              "      <th></th>\n",
              "      <th></th>\n",
              "      <th></th>\n",
              "      <th></th>\n",
              "      <th></th>\n",
              "      <th></th>\n",
              "      <th></th>\n",
              "      <th></th>\n",
              "      <th></th>\n",
              "      <th></th>\n",
              "      <th></th>\n",
              "      <th></th>\n",
              "      <th></th>\n",
              "      <th></th>\n",
              "    </tr>\n",
              "  </thead>\n",
              "  <tbody>\n",
              "    <tr>\n",
              "      <th>2012-10-01 12:00:00</th>\n",
              "      <td>NaN</td>\n",
              "      <td>NaN</td>\n",
              "      <td>NaN</td>\n",
              "      <td>NaN</td>\n",
              "      <td>NaN</td>\n",
              "      <td>NaN</td>\n",
              "      <td>NaN</td>\n",
              "      <td>NaN</td>\n",
              "      <td>NaN</td>\n",
              "      <td>NaN</td>\n",
              "      <td>...</td>\n",
              "      <td>NaN</td>\n",
              "      <td>NaN</td>\n",
              "      <td>NaN</td>\n",
              "      <td>NaN</td>\n",
              "      <td>NaN</td>\n",
              "      <td>NaN</td>\n",
              "      <td>1011.0</td>\n",
              "      <td>NaN</td>\n",
              "      <td>NaN</td>\n",
              "      <td>NaN</td>\n",
              "    </tr>\n",
              "    <tr>\n",
              "      <th>2012-10-01 13:00:00</th>\n",
              "      <td>NaN</td>\n",
              "      <td>1024.0</td>\n",
              "      <td>1009.0</td>\n",
              "      <td>1027.0</td>\n",
              "      <td>1013.0</td>\n",
              "      <td>1013.0</td>\n",
              "      <td>1018.0</td>\n",
              "      <td>1013.0</td>\n",
              "      <td>1024.0</td>\n",
              "      <td>1028.0</td>\n",
              "      <td>...</td>\n",
              "      <td>1014.0</td>\n",
              "      <td>1012.0</td>\n",
              "      <td>1001.0</td>\n",
              "      <td>1014.0</td>\n",
              "      <td>984.0</td>\n",
              "      <td>1012.0</td>\n",
              "      <td>1010.0</td>\n",
              "      <td>1013.0</td>\n",
              "      <td>1013.0</td>\n",
              "      <td>990.0</td>\n",
              "    </tr>\n",
              "    <tr>\n",
              "      <th>2012-10-01 14:00:00</th>\n",
              "      <td>NaN</td>\n",
              "      <td>1024.0</td>\n",
              "      <td>1009.0</td>\n",
              "      <td>1027.0</td>\n",
              "      <td>1013.0</td>\n",
              "      <td>1013.0</td>\n",
              "      <td>1018.0</td>\n",
              "      <td>1013.0</td>\n",
              "      <td>1024.0</td>\n",
              "      <td>1028.0</td>\n",
              "      <td>...</td>\n",
              "      <td>1014.0</td>\n",
              "      <td>1012.0</td>\n",
              "      <td>986.0</td>\n",
              "      <td>1014.0</td>\n",
              "      <td>984.0</td>\n",
              "      <td>1012.0</td>\n",
              "      <td>1010.0</td>\n",
              "      <td>1013.0</td>\n",
              "      <td>1013.0</td>\n",
              "      <td>990.0</td>\n",
              "    </tr>\n",
              "    <tr>\n",
              "      <th>2012-10-01 15:00:00</th>\n",
              "      <td>NaN</td>\n",
              "      <td>1024.0</td>\n",
              "      <td>1009.0</td>\n",
              "      <td>1028.0</td>\n",
              "      <td>1013.0</td>\n",
              "      <td>1013.0</td>\n",
              "      <td>1018.0</td>\n",
              "      <td>1013.0</td>\n",
              "      <td>1024.0</td>\n",
              "      <td>1028.0</td>\n",
              "      <td>...</td>\n",
              "      <td>1014.0</td>\n",
              "      <td>1012.0</td>\n",
              "      <td>945.0</td>\n",
              "      <td>1014.0</td>\n",
              "      <td>984.0</td>\n",
              "      <td>1012.0</td>\n",
              "      <td>1010.0</td>\n",
              "      <td>1013.0</td>\n",
              "      <td>1013.0</td>\n",
              "      <td>990.0</td>\n",
              "    </tr>\n",
              "    <tr>\n",
              "      <th>2012-10-01 16:00:00</th>\n",
              "      <td>NaN</td>\n",
              "      <td>1024.0</td>\n",
              "      <td>1009.0</td>\n",
              "      <td>1028.0</td>\n",
              "      <td>1013.0</td>\n",
              "      <td>1013.0</td>\n",
              "      <td>1018.0</td>\n",
              "      <td>1013.0</td>\n",
              "      <td>1024.0</td>\n",
              "      <td>1028.0</td>\n",
              "      <td>...</td>\n",
              "      <td>1014.0</td>\n",
              "      <td>1012.0</td>\n",
              "      <td>904.0</td>\n",
              "      <td>1014.0</td>\n",
              "      <td>984.0</td>\n",
              "      <td>1012.0</td>\n",
              "      <td>1010.0</td>\n",
              "      <td>1013.0</td>\n",
              "      <td>1013.0</td>\n",
              "      <td>990.0</td>\n",
              "    </tr>\n",
              "  </tbody>\n",
              "</table>\n",
              "<p>5 rows × 36 columns</p>\n",
              "</div>\n",
              "      <button class=\"colab-df-convert\" onclick=\"convertToInteractive('df-0482e7da-c3c8-44ea-a179-ca6bbb391109')\"\n",
              "              title=\"Convert this dataframe to an interactive table.\"\n",
              "              style=\"display:none;\">\n",
              "        \n",
              "  <svg xmlns=\"http://www.w3.org/2000/svg\" height=\"24px\"viewBox=\"0 0 24 24\"\n",
              "       width=\"24px\">\n",
              "    <path d=\"M0 0h24v24H0V0z\" fill=\"none\"/>\n",
              "    <path d=\"M18.56 5.44l.94 2.06.94-2.06 2.06-.94-2.06-.94-.94-2.06-.94 2.06-2.06.94zm-11 1L8.5 8.5l.94-2.06 2.06-.94-2.06-.94L8.5 2.5l-.94 2.06-2.06.94zm10 10l.94 2.06.94-2.06 2.06-.94-2.06-.94-.94-2.06-.94 2.06-2.06.94z\"/><path d=\"M17.41 7.96l-1.37-1.37c-.4-.4-.92-.59-1.43-.59-.52 0-1.04.2-1.43.59L10.3 9.45l-7.72 7.72c-.78.78-.78 2.05 0 2.83L4 21.41c.39.39.9.59 1.41.59.51 0 1.02-.2 1.41-.59l7.78-7.78 2.81-2.81c.8-.78.8-2.07 0-2.86zM5.41 20L4 18.59l7.72-7.72 1.47 1.35L5.41 20z\"/>\n",
              "  </svg>\n",
              "      </button>\n",
              "      \n",
              "  <style>\n",
              "    .colab-df-container {\n",
              "      display:flex;\n",
              "      flex-wrap:wrap;\n",
              "      gap: 12px;\n",
              "    }\n",
              "\n",
              "    .colab-df-convert {\n",
              "      background-color: #E8F0FE;\n",
              "      border: none;\n",
              "      border-radius: 50%;\n",
              "      cursor: pointer;\n",
              "      display: none;\n",
              "      fill: #1967D2;\n",
              "      height: 32px;\n",
              "      padding: 0 0 0 0;\n",
              "      width: 32px;\n",
              "    }\n",
              "\n",
              "    .colab-df-convert:hover {\n",
              "      background-color: #E2EBFA;\n",
              "      box-shadow: 0px 1px 2px rgba(60, 64, 67, 0.3), 0px 1px 3px 1px rgba(60, 64, 67, 0.15);\n",
              "      fill: #174EA6;\n",
              "    }\n",
              "\n",
              "    [theme=dark] .colab-df-convert {\n",
              "      background-color: #3B4455;\n",
              "      fill: #D2E3FC;\n",
              "    }\n",
              "\n",
              "    [theme=dark] .colab-df-convert:hover {\n",
              "      background-color: #434B5C;\n",
              "      box-shadow: 0px 1px 3px 1px rgba(0, 0, 0, 0.15);\n",
              "      filter: drop-shadow(0px 1px 2px rgba(0, 0, 0, 0.3));\n",
              "      fill: #FFFFFF;\n",
              "    }\n",
              "  </style>\n",
              "\n",
              "      <script>\n",
              "        const buttonEl =\n",
              "          document.querySelector('#df-0482e7da-c3c8-44ea-a179-ca6bbb391109 button.colab-df-convert');\n",
              "        buttonEl.style.display =\n",
              "          google.colab.kernel.accessAllowed ? 'block' : 'none';\n",
              "\n",
              "        async function convertToInteractive(key) {\n",
              "          const element = document.querySelector('#df-0482e7da-c3c8-44ea-a179-ca6bbb391109');\n",
              "          const dataTable =\n",
              "            await google.colab.kernel.invokeFunction('convertToInteractive',\n",
              "                                                     [key], {});\n",
              "          if (!dataTable) return;\n",
              "\n",
              "          const docLinkHtml = 'Like what you see? Visit the ' +\n",
              "            '<a target=\"_blank\" href=https://colab.research.google.com/notebooks/data_table.ipynb>data table notebook</a>'\n",
              "            + ' to learn more about interactive tables.';\n",
              "          element.innerHTML = '';\n",
              "          dataTable['output_type'] = 'display_data';\n",
              "          await google.colab.output.renderOutput(dataTable, element);\n",
              "          const docLink = document.createElement('div');\n",
              "          docLink.innerHTML = docLinkHtml;\n",
              "          element.appendChild(docLink);\n",
              "        }\n",
              "      </script>\n",
              "    </div>\n",
              "  </div>\n",
              "  "
            ]
          },
          "metadata": {},
          "execution_count": 44
        }
      ]
    },
    {
      "cell_type": "markdown",
      "source": [
        "First, we used `ffill` parameter which propagates last valid observation to fill gaps. Then we use `bfill` to propogate next valid observation to fill gaps."
      ],
      "metadata": {
        "id": "sjf1z_HeQm4E"
      }
    },
    {
      "cell_type": "code",
      "source": [
        "pressure = pressure.iloc[1:]\n",
        "pressure = pressure.fillna(method='ffill')\n",
        "pressure = pressure.fillna(method='bfill')\n",
        "pressure.head()"
      ],
      "metadata": {
        "colab": {
          "base_uri": "https://localhost:8080/",
          "height": 415
        },
        "id": "_MI7QI9QQRQm",
        "outputId": "966c8a2c-53b2-480d-c2be-ecbd25666677"
      },
      "execution_count": null,
      "outputs": [
        {
          "output_type": "execute_result",
          "data": {
            "text/plain": [
              "                     Vancouver  Portland  San Francisco  Seattle  Los Angeles  \\\n",
              "datetime                                                                        \n",
              "2012-10-01 14:00:00      807.0    1024.0         1009.0   1027.0       1013.0   \n",
              "2012-10-01 15:00:00      807.0    1024.0         1009.0   1028.0       1013.0   \n",
              "2012-10-01 16:00:00      807.0    1024.0         1009.0   1028.0       1013.0   \n",
              "2012-10-01 17:00:00      807.0    1024.0         1009.0   1029.0       1013.0   \n",
              "2012-10-01 18:00:00      807.0    1024.0         1010.0   1030.0       1013.0   \n",
              "\n",
              "                     San Diego  Las Vegas  Phoenix  Albuquerque  Denver  ...  \\\n",
              "datetime                                                                 ...   \n",
              "2012-10-01 14:00:00     1013.0     1018.0   1013.0       1024.0  1028.0  ...   \n",
              "2012-10-01 15:00:00     1013.0     1018.0   1013.0       1024.0  1028.0  ...   \n",
              "2012-10-01 16:00:00     1013.0     1018.0   1013.0       1024.0  1028.0  ...   \n",
              "2012-10-01 17:00:00     1013.0     1018.0   1013.0       1024.0  1028.0  ...   \n",
              "2012-10-01 18:00:00     1013.0     1018.0   1013.0       1024.0  1028.0  ...   \n",
              "\n",
              "                     Philadelphia  New York  Montreal  Boston  Beersheba  \\\n",
              "datetime                                                                   \n",
              "2012-10-01 14:00:00        1014.0    1012.0     986.0  1014.0      984.0   \n",
              "2012-10-01 15:00:00        1014.0    1012.0     945.0  1014.0      984.0   \n",
              "2012-10-01 16:00:00        1014.0    1012.0     904.0  1014.0      984.0   \n",
              "2012-10-01 17:00:00        1014.0    1012.0     863.0  1014.0      984.0   \n",
              "2012-10-01 18:00:00        1014.0    1012.0     822.0  1014.0      984.0   \n",
              "\n",
              "                     Tel Aviv District   Eilat   Haifa  Nahariyya  Jerusalem  \n",
              "datetime                                                                      \n",
              "2012-10-01 14:00:00             1012.0  1010.0  1013.0     1013.0      990.0  \n",
              "2012-10-01 15:00:00             1012.0  1010.0  1013.0     1013.0      990.0  \n",
              "2012-10-01 16:00:00             1012.0  1010.0  1013.0     1013.0      990.0  \n",
              "2012-10-01 17:00:00             1012.0  1010.0  1013.0     1013.0      990.0  \n",
              "2012-10-01 18:00:00             1012.0  1010.0  1013.0     1013.0      990.0  \n",
              "\n",
              "[5 rows x 36 columns]"
            ],
            "text/html": [
              "\n",
              "  <div id=\"df-f7da38aa-5d6a-4f19-bdcb-26326cfcb385\">\n",
              "    <div class=\"colab-df-container\">\n",
              "      <div>\n",
              "<style scoped>\n",
              "    .dataframe tbody tr th:only-of-type {\n",
              "        vertical-align: middle;\n",
              "    }\n",
              "\n",
              "    .dataframe tbody tr th {\n",
              "        vertical-align: top;\n",
              "    }\n",
              "\n",
              "    .dataframe thead th {\n",
              "        text-align: right;\n",
              "    }\n",
              "</style>\n",
              "<table border=\"1\" class=\"dataframe\">\n",
              "  <thead>\n",
              "    <tr style=\"text-align: right;\">\n",
              "      <th></th>\n",
              "      <th>Vancouver</th>\n",
              "      <th>Portland</th>\n",
              "      <th>San Francisco</th>\n",
              "      <th>Seattle</th>\n",
              "      <th>Los Angeles</th>\n",
              "      <th>San Diego</th>\n",
              "      <th>Las Vegas</th>\n",
              "      <th>Phoenix</th>\n",
              "      <th>Albuquerque</th>\n",
              "      <th>Denver</th>\n",
              "      <th>...</th>\n",
              "      <th>Philadelphia</th>\n",
              "      <th>New York</th>\n",
              "      <th>Montreal</th>\n",
              "      <th>Boston</th>\n",
              "      <th>Beersheba</th>\n",
              "      <th>Tel Aviv District</th>\n",
              "      <th>Eilat</th>\n",
              "      <th>Haifa</th>\n",
              "      <th>Nahariyya</th>\n",
              "      <th>Jerusalem</th>\n",
              "    </tr>\n",
              "    <tr>\n",
              "      <th>datetime</th>\n",
              "      <th></th>\n",
              "      <th></th>\n",
              "      <th></th>\n",
              "      <th></th>\n",
              "      <th></th>\n",
              "      <th></th>\n",
              "      <th></th>\n",
              "      <th></th>\n",
              "      <th></th>\n",
              "      <th></th>\n",
              "      <th></th>\n",
              "      <th></th>\n",
              "      <th></th>\n",
              "      <th></th>\n",
              "      <th></th>\n",
              "      <th></th>\n",
              "      <th></th>\n",
              "      <th></th>\n",
              "      <th></th>\n",
              "      <th></th>\n",
              "      <th></th>\n",
              "    </tr>\n",
              "  </thead>\n",
              "  <tbody>\n",
              "    <tr>\n",
              "      <th>2012-10-01 14:00:00</th>\n",
              "      <td>807.0</td>\n",
              "      <td>1024.0</td>\n",
              "      <td>1009.0</td>\n",
              "      <td>1027.0</td>\n",
              "      <td>1013.0</td>\n",
              "      <td>1013.0</td>\n",
              "      <td>1018.0</td>\n",
              "      <td>1013.0</td>\n",
              "      <td>1024.0</td>\n",
              "      <td>1028.0</td>\n",
              "      <td>...</td>\n",
              "      <td>1014.0</td>\n",
              "      <td>1012.0</td>\n",
              "      <td>986.0</td>\n",
              "      <td>1014.0</td>\n",
              "      <td>984.0</td>\n",
              "      <td>1012.0</td>\n",
              "      <td>1010.0</td>\n",
              "      <td>1013.0</td>\n",
              "      <td>1013.0</td>\n",
              "      <td>990.0</td>\n",
              "    </tr>\n",
              "    <tr>\n",
              "      <th>2012-10-01 15:00:00</th>\n",
              "      <td>807.0</td>\n",
              "      <td>1024.0</td>\n",
              "      <td>1009.0</td>\n",
              "      <td>1028.0</td>\n",
              "      <td>1013.0</td>\n",
              "      <td>1013.0</td>\n",
              "      <td>1018.0</td>\n",
              "      <td>1013.0</td>\n",
              "      <td>1024.0</td>\n",
              "      <td>1028.0</td>\n",
              "      <td>...</td>\n",
              "      <td>1014.0</td>\n",
              "      <td>1012.0</td>\n",
              "      <td>945.0</td>\n",
              "      <td>1014.0</td>\n",
              "      <td>984.0</td>\n",
              "      <td>1012.0</td>\n",
              "      <td>1010.0</td>\n",
              "      <td>1013.0</td>\n",
              "      <td>1013.0</td>\n",
              "      <td>990.0</td>\n",
              "    </tr>\n",
              "    <tr>\n",
              "      <th>2012-10-01 16:00:00</th>\n",
              "      <td>807.0</td>\n",
              "      <td>1024.0</td>\n",
              "      <td>1009.0</td>\n",
              "      <td>1028.0</td>\n",
              "      <td>1013.0</td>\n",
              "      <td>1013.0</td>\n",
              "      <td>1018.0</td>\n",
              "      <td>1013.0</td>\n",
              "      <td>1024.0</td>\n",
              "      <td>1028.0</td>\n",
              "      <td>...</td>\n",
              "      <td>1014.0</td>\n",
              "      <td>1012.0</td>\n",
              "      <td>904.0</td>\n",
              "      <td>1014.0</td>\n",
              "      <td>984.0</td>\n",
              "      <td>1012.0</td>\n",
              "      <td>1010.0</td>\n",
              "      <td>1013.0</td>\n",
              "      <td>1013.0</td>\n",
              "      <td>990.0</td>\n",
              "    </tr>\n",
              "    <tr>\n",
              "      <th>2012-10-01 17:00:00</th>\n",
              "      <td>807.0</td>\n",
              "      <td>1024.0</td>\n",
              "      <td>1009.0</td>\n",
              "      <td>1029.0</td>\n",
              "      <td>1013.0</td>\n",
              "      <td>1013.0</td>\n",
              "      <td>1018.0</td>\n",
              "      <td>1013.0</td>\n",
              "      <td>1024.0</td>\n",
              "      <td>1028.0</td>\n",
              "      <td>...</td>\n",
              "      <td>1014.0</td>\n",
              "      <td>1012.0</td>\n",
              "      <td>863.0</td>\n",
              "      <td>1014.0</td>\n",
              "      <td>984.0</td>\n",
              "      <td>1012.0</td>\n",
              "      <td>1010.0</td>\n",
              "      <td>1013.0</td>\n",
              "      <td>1013.0</td>\n",
              "      <td>990.0</td>\n",
              "    </tr>\n",
              "    <tr>\n",
              "      <th>2012-10-01 18:00:00</th>\n",
              "      <td>807.0</td>\n",
              "      <td>1024.0</td>\n",
              "      <td>1010.0</td>\n",
              "      <td>1030.0</td>\n",
              "      <td>1013.0</td>\n",
              "      <td>1013.0</td>\n",
              "      <td>1018.0</td>\n",
              "      <td>1013.0</td>\n",
              "      <td>1024.0</td>\n",
              "      <td>1028.0</td>\n",
              "      <td>...</td>\n",
              "      <td>1014.0</td>\n",
              "      <td>1012.0</td>\n",
              "      <td>822.0</td>\n",
              "      <td>1014.0</td>\n",
              "      <td>984.0</td>\n",
              "      <td>1012.0</td>\n",
              "      <td>1010.0</td>\n",
              "      <td>1013.0</td>\n",
              "      <td>1013.0</td>\n",
              "      <td>990.0</td>\n",
              "    </tr>\n",
              "  </tbody>\n",
              "</table>\n",
              "<p>5 rows × 36 columns</p>\n",
              "</div>\n",
              "      <button class=\"colab-df-convert\" onclick=\"convertToInteractive('df-f7da38aa-5d6a-4f19-bdcb-26326cfcb385')\"\n",
              "              title=\"Convert this dataframe to an interactive table.\"\n",
              "              style=\"display:none;\">\n",
              "        \n",
              "  <svg xmlns=\"http://www.w3.org/2000/svg\" height=\"24px\"viewBox=\"0 0 24 24\"\n",
              "       width=\"24px\">\n",
              "    <path d=\"M0 0h24v24H0V0z\" fill=\"none\"/>\n",
              "    <path d=\"M18.56 5.44l.94 2.06.94-2.06 2.06-.94-2.06-.94-.94-2.06-.94 2.06-2.06.94zm-11 1L8.5 8.5l.94-2.06 2.06-.94-2.06-.94L8.5 2.5l-.94 2.06-2.06.94zm10 10l.94 2.06.94-2.06 2.06-.94-2.06-.94-.94-2.06-.94 2.06-2.06.94z\"/><path d=\"M17.41 7.96l-1.37-1.37c-.4-.4-.92-.59-1.43-.59-.52 0-1.04.2-1.43.59L10.3 9.45l-7.72 7.72c-.78.78-.78 2.05 0 2.83L4 21.41c.39.39.9.59 1.41.59.51 0 1.02-.2 1.41-.59l7.78-7.78 2.81-2.81c.8-.78.8-2.07 0-2.86zM5.41 20L4 18.59l7.72-7.72 1.47 1.35L5.41 20z\"/>\n",
              "  </svg>\n",
              "      </button>\n",
              "      \n",
              "  <style>\n",
              "    .colab-df-container {\n",
              "      display:flex;\n",
              "      flex-wrap:wrap;\n",
              "      gap: 12px;\n",
              "    }\n",
              "\n",
              "    .colab-df-convert {\n",
              "      background-color: #E8F0FE;\n",
              "      border: none;\n",
              "      border-radius: 50%;\n",
              "      cursor: pointer;\n",
              "      display: none;\n",
              "      fill: #1967D2;\n",
              "      height: 32px;\n",
              "      padding: 0 0 0 0;\n",
              "      width: 32px;\n",
              "    }\n",
              "\n",
              "    .colab-df-convert:hover {\n",
              "      background-color: #E2EBFA;\n",
              "      box-shadow: 0px 1px 2px rgba(60, 64, 67, 0.3), 0px 1px 3px 1px rgba(60, 64, 67, 0.15);\n",
              "      fill: #174EA6;\n",
              "    }\n",
              "\n",
              "    [theme=dark] .colab-df-convert {\n",
              "      background-color: #3B4455;\n",
              "      fill: #D2E3FC;\n",
              "    }\n",
              "\n",
              "    [theme=dark] .colab-df-convert:hover {\n",
              "      background-color: #434B5C;\n",
              "      box-shadow: 0px 1px 3px 1px rgba(0, 0, 0, 0.15);\n",
              "      filter: drop-shadow(0px 1px 2px rgba(0, 0, 0, 0.3));\n",
              "      fill: #FFFFFF;\n",
              "    }\n",
              "  </style>\n",
              "\n",
              "      <script>\n",
              "        const buttonEl =\n",
              "          document.querySelector('#df-f7da38aa-5d6a-4f19-bdcb-26326cfcb385 button.colab-df-convert');\n",
              "        buttonEl.style.display =\n",
              "          google.colab.kernel.accessAllowed ? 'block' : 'none';\n",
              "\n",
              "        async function convertToInteractive(key) {\n",
              "          const element = document.querySelector('#df-f7da38aa-5d6a-4f19-bdcb-26326cfcb385');\n",
              "          const dataTable =\n",
              "            await google.colab.kernel.invokeFunction('convertToInteractive',\n",
              "                                                     [key], {});\n",
              "          if (!dataTable) return;\n",
              "\n",
              "          const docLinkHtml = 'Like what you see? Visit the ' +\n",
              "            '<a target=\"_blank\" href=https://colab.research.google.com/notebooks/data_table.ipynb>data table notebook</a>'\n",
              "            + ' to learn more about interactive tables.';\n",
              "          element.innerHTML = '';\n",
              "          dataTable['output_type'] = 'display_data';\n",
              "          await google.colab.output.renderOutput(dataTable, element);\n",
              "          const docLink = document.createElement('div');\n",
              "          docLink.innerHTML = docLinkHtml;\n",
              "          element.appendChild(docLink);\n",
              "        }\n",
              "      </script>\n",
              "    </div>\n",
              "  </div>\n",
              "  "
            ]
          },
          "metadata": {},
          "execution_count": 46
        }
      ]
    },
    {
      "cell_type": "code",
      "source": [
        "pressure.shape"
      ],
      "metadata": {
        "colab": {
          "base_uri": "https://localhost:8080/"
        },
        "id": "RoAc0p2qQsYf",
        "outputId": "9cf6ec68-fc5d-476a-da42-e06e52414e75"
      },
      "execution_count": null,
      "outputs": [
        {
          "output_type": "execute_result",
          "data": {
            "text/plain": [
              "(45251, 36)"
            ]
          },
          "metadata": {},
          "execution_count": 47
        }
      ]
    },
    {
      "cell_type": "markdown",
      "source": [
        "**Downsampling**\n",
        "\n",
        "Downsample from hourly to 3 day frequency, aggregated using mean."
      ],
      "metadata": {
        "id": "PX5q3kScQvJU"
      }
    },
    {
      "cell_type": "code",
      "source": [
        "pressure = pressure.resample(\"3D\").mean()\n",
        "pressure.head()"
      ],
      "metadata": {
        "colab": {
          "base_uri": "https://localhost:8080/",
          "height": 435
        },
        "id": "Zjkm1uzRQ6W4",
        "outputId": "60aab076-c045-4d97-82cb-4c015acb3615"
      },
      "execution_count": null,
      "outputs": [
        {
          "output_type": "execute_result",
          "data": {
            "text/plain": [
              "              Vancouver     Portland  San Francisco      Seattle  Los Angeles  \\\n",
              "datetime                                                                        \n",
              "2012-10-01   933.775862  1022.620690    1010.913793  1031.344828  1011.603448   \n",
              "2012-10-04  1019.083333  1023.041667    1014.694444  1028.305556  1015.555556   \n",
              "2012-10-07  1013.930556  1017.444444    1016.597222  1018.736111  1013.416667   \n",
              "2012-10-10  1015.000000  1015.430556    1014.833333  1018.416667  1010.694444   \n",
              "2012-10-13  1008.152778  1018.111111    1021.069444  1015.930556  1017.277778   \n",
              "\n",
              "              San Diego    Las Vegas      Phoenix  Albuquerque       Denver  \\\n",
              "datetime                                                                      \n",
              "2012-10-01  1011.948276  1016.293103  1012.068966  1022.517241  1024.051724   \n",
              "2012-10-04  1016.277778  1013.194444  1014.097222  1019.972222  1020.666667   \n",
              "2012-10-07  1014.222222  1012.888889  1011.861111  1005.833333  1020.458333   \n",
              "2012-10-10  1014.013889  1000.166667  1005.611111   986.000000   984.486111   \n",
              "2012-10-13  1018.375000  1015.666667  1015.500000  1013.625000  1010.444444   \n",
              "\n",
              "            ...  Philadelphia     New York     Montreal       Boston  \\\n",
              "datetime    ...                                                        \n",
              "2012-10-01  ...   1014.155172  1013.448276   936.534483  1013.672414   \n",
              "2012-10-04  ...   1018.097222  1017.680556  1017.180556  1019.805556   \n",
              "2012-10-07  ...   1017.958333  1016.750000  1014.152778  1016.305556   \n",
              "2012-10-10  ...   1018.694444  1017.916667  1016.166667  1017.319444   \n",
              "2012-10-13  ...   1025.055556  1024.388889  1020.805556  1023.736111   \n",
              "\n",
              "             Beersheba  Tel Aviv District        Eilat        Haifa  \\\n",
              "datetime                                                              \n",
              "2012-10-01  985.068966        1012.965517  1011.827586  1013.000000   \n",
              "2012-10-04  984.930556        1013.083333  1012.611111  1013.000000   \n",
              "2012-10-07  982.972222        1013.027778  1007.555556  1013.000000   \n",
              "2012-10-10  979.763889        1006.527778   998.763889  1012.333333   \n",
              "2012-10-13  984.527778        1013.027778  1007.194444  1013.000000   \n",
              "\n",
              "              Nahariyya   Jerusalem  \n",
              "datetime                             \n",
              "2012-10-01  1013.000000  990.534483  \n",
              "2012-10-04  1013.000000  990.083333  \n",
              "2012-10-07  1013.000000  989.833333  \n",
              "2012-10-10  1012.333333  987.888889  \n",
              "2012-10-13  1013.000000  990.430556  \n",
              "\n",
              "[5 rows x 36 columns]"
            ],
            "text/html": [
              "\n",
              "  <div id=\"df-a1eba6a9-3e80-4236-a370-7c4955c92e3a\">\n",
              "    <div class=\"colab-df-container\">\n",
              "      <div>\n",
              "<style scoped>\n",
              "    .dataframe tbody tr th:only-of-type {\n",
              "        vertical-align: middle;\n",
              "    }\n",
              "\n",
              "    .dataframe tbody tr th {\n",
              "        vertical-align: top;\n",
              "    }\n",
              "\n",
              "    .dataframe thead th {\n",
              "        text-align: right;\n",
              "    }\n",
              "</style>\n",
              "<table border=\"1\" class=\"dataframe\">\n",
              "  <thead>\n",
              "    <tr style=\"text-align: right;\">\n",
              "      <th></th>\n",
              "      <th>Vancouver</th>\n",
              "      <th>Portland</th>\n",
              "      <th>San Francisco</th>\n",
              "      <th>Seattle</th>\n",
              "      <th>Los Angeles</th>\n",
              "      <th>San Diego</th>\n",
              "      <th>Las Vegas</th>\n",
              "      <th>Phoenix</th>\n",
              "      <th>Albuquerque</th>\n",
              "      <th>Denver</th>\n",
              "      <th>...</th>\n",
              "      <th>Philadelphia</th>\n",
              "      <th>New York</th>\n",
              "      <th>Montreal</th>\n",
              "      <th>Boston</th>\n",
              "      <th>Beersheba</th>\n",
              "      <th>Tel Aviv District</th>\n",
              "      <th>Eilat</th>\n",
              "      <th>Haifa</th>\n",
              "      <th>Nahariyya</th>\n",
              "      <th>Jerusalem</th>\n",
              "    </tr>\n",
              "    <tr>\n",
              "      <th>datetime</th>\n",
              "      <th></th>\n",
              "      <th></th>\n",
              "      <th></th>\n",
              "      <th></th>\n",
              "      <th></th>\n",
              "      <th></th>\n",
              "      <th></th>\n",
              "      <th></th>\n",
              "      <th></th>\n",
              "      <th></th>\n",
              "      <th></th>\n",
              "      <th></th>\n",
              "      <th></th>\n",
              "      <th></th>\n",
              "      <th></th>\n",
              "      <th></th>\n",
              "      <th></th>\n",
              "      <th></th>\n",
              "      <th></th>\n",
              "      <th></th>\n",
              "      <th></th>\n",
              "    </tr>\n",
              "  </thead>\n",
              "  <tbody>\n",
              "    <tr>\n",
              "      <th>2012-10-01</th>\n",
              "      <td>933.775862</td>\n",
              "      <td>1022.620690</td>\n",
              "      <td>1010.913793</td>\n",
              "      <td>1031.344828</td>\n",
              "      <td>1011.603448</td>\n",
              "      <td>1011.948276</td>\n",
              "      <td>1016.293103</td>\n",
              "      <td>1012.068966</td>\n",
              "      <td>1022.517241</td>\n",
              "      <td>1024.051724</td>\n",
              "      <td>...</td>\n",
              "      <td>1014.155172</td>\n",
              "      <td>1013.448276</td>\n",
              "      <td>936.534483</td>\n",
              "      <td>1013.672414</td>\n",
              "      <td>985.068966</td>\n",
              "      <td>1012.965517</td>\n",
              "      <td>1011.827586</td>\n",
              "      <td>1013.000000</td>\n",
              "      <td>1013.000000</td>\n",
              "      <td>990.534483</td>\n",
              "    </tr>\n",
              "    <tr>\n",
              "      <th>2012-10-04</th>\n",
              "      <td>1019.083333</td>\n",
              "      <td>1023.041667</td>\n",
              "      <td>1014.694444</td>\n",
              "      <td>1028.305556</td>\n",
              "      <td>1015.555556</td>\n",
              "      <td>1016.277778</td>\n",
              "      <td>1013.194444</td>\n",
              "      <td>1014.097222</td>\n",
              "      <td>1019.972222</td>\n",
              "      <td>1020.666667</td>\n",
              "      <td>...</td>\n",
              "      <td>1018.097222</td>\n",
              "      <td>1017.680556</td>\n",
              "      <td>1017.180556</td>\n",
              "      <td>1019.805556</td>\n",
              "      <td>984.930556</td>\n",
              "      <td>1013.083333</td>\n",
              "      <td>1012.611111</td>\n",
              "      <td>1013.000000</td>\n",
              "      <td>1013.000000</td>\n",
              "      <td>990.083333</td>\n",
              "    </tr>\n",
              "    <tr>\n",
              "      <th>2012-10-07</th>\n",
              "      <td>1013.930556</td>\n",
              "      <td>1017.444444</td>\n",
              "      <td>1016.597222</td>\n",
              "      <td>1018.736111</td>\n",
              "      <td>1013.416667</td>\n",
              "      <td>1014.222222</td>\n",
              "      <td>1012.888889</td>\n",
              "      <td>1011.861111</td>\n",
              "      <td>1005.833333</td>\n",
              "      <td>1020.458333</td>\n",
              "      <td>...</td>\n",
              "      <td>1017.958333</td>\n",
              "      <td>1016.750000</td>\n",
              "      <td>1014.152778</td>\n",
              "      <td>1016.305556</td>\n",
              "      <td>982.972222</td>\n",
              "      <td>1013.027778</td>\n",
              "      <td>1007.555556</td>\n",
              "      <td>1013.000000</td>\n",
              "      <td>1013.000000</td>\n",
              "      <td>989.833333</td>\n",
              "    </tr>\n",
              "    <tr>\n",
              "      <th>2012-10-10</th>\n",
              "      <td>1015.000000</td>\n",
              "      <td>1015.430556</td>\n",
              "      <td>1014.833333</td>\n",
              "      <td>1018.416667</td>\n",
              "      <td>1010.694444</td>\n",
              "      <td>1014.013889</td>\n",
              "      <td>1000.166667</td>\n",
              "      <td>1005.611111</td>\n",
              "      <td>986.000000</td>\n",
              "      <td>984.486111</td>\n",
              "      <td>...</td>\n",
              "      <td>1018.694444</td>\n",
              "      <td>1017.916667</td>\n",
              "      <td>1016.166667</td>\n",
              "      <td>1017.319444</td>\n",
              "      <td>979.763889</td>\n",
              "      <td>1006.527778</td>\n",
              "      <td>998.763889</td>\n",
              "      <td>1012.333333</td>\n",
              "      <td>1012.333333</td>\n",
              "      <td>987.888889</td>\n",
              "    </tr>\n",
              "    <tr>\n",
              "      <th>2012-10-13</th>\n",
              "      <td>1008.152778</td>\n",
              "      <td>1018.111111</td>\n",
              "      <td>1021.069444</td>\n",
              "      <td>1015.930556</td>\n",
              "      <td>1017.277778</td>\n",
              "      <td>1018.375000</td>\n",
              "      <td>1015.666667</td>\n",
              "      <td>1015.500000</td>\n",
              "      <td>1013.625000</td>\n",
              "      <td>1010.444444</td>\n",
              "      <td>...</td>\n",
              "      <td>1025.055556</td>\n",
              "      <td>1024.388889</td>\n",
              "      <td>1020.805556</td>\n",
              "      <td>1023.736111</td>\n",
              "      <td>984.527778</td>\n",
              "      <td>1013.027778</td>\n",
              "      <td>1007.194444</td>\n",
              "      <td>1013.000000</td>\n",
              "      <td>1013.000000</td>\n",
              "      <td>990.430556</td>\n",
              "    </tr>\n",
              "  </tbody>\n",
              "</table>\n",
              "<p>5 rows × 36 columns</p>\n",
              "</div>\n",
              "      <button class=\"colab-df-convert\" onclick=\"convertToInteractive('df-a1eba6a9-3e80-4236-a370-7c4955c92e3a')\"\n",
              "              title=\"Convert this dataframe to an interactive table.\"\n",
              "              style=\"display:none;\">\n",
              "        \n",
              "  <svg xmlns=\"http://www.w3.org/2000/svg\" height=\"24px\"viewBox=\"0 0 24 24\"\n",
              "       width=\"24px\">\n",
              "    <path d=\"M0 0h24v24H0V0z\" fill=\"none\"/>\n",
              "    <path d=\"M18.56 5.44l.94 2.06.94-2.06 2.06-.94-2.06-.94-.94-2.06-.94 2.06-2.06.94zm-11 1L8.5 8.5l.94-2.06 2.06-.94-2.06-.94L8.5 2.5l-.94 2.06-2.06.94zm10 10l.94 2.06.94-2.06 2.06-.94-2.06-.94-.94-2.06-.94 2.06-2.06.94z\"/><path d=\"M17.41 7.96l-1.37-1.37c-.4-.4-.92-.59-1.43-.59-.52 0-1.04.2-1.43.59L10.3 9.45l-7.72 7.72c-.78.78-.78 2.05 0 2.83L4 21.41c.39.39.9.59 1.41.59.51 0 1.02-.2 1.41-.59l7.78-7.78 2.81-2.81c.8-.78.8-2.07 0-2.86zM5.41 20L4 18.59l7.72-7.72 1.47 1.35L5.41 20z\"/>\n",
              "  </svg>\n",
              "      </button>\n",
              "      \n",
              "  <style>\n",
              "    .colab-df-container {\n",
              "      display:flex;\n",
              "      flex-wrap:wrap;\n",
              "      gap: 12px;\n",
              "    }\n",
              "\n",
              "    .colab-df-convert {\n",
              "      background-color: #E8F0FE;\n",
              "      border: none;\n",
              "      border-radius: 50%;\n",
              "      cursor: pointer;\n",
              "      display: none;\n",
              "      fill: #1967D2;\n",
              "      height: 32px;\n",
              "      padding: 0 0 0 0;\n",
              "      width: 32px;\n",
              "    }\n",
              "\n",
              "    .colab-df-convert:hover {\n",
              "      background-color: #E2EBFA;\n",
              "      box-shadow: 0px 1px 2px rgba(60, 64, 67, 0.3), 0px 1px 3px 1px rgba(60, 64, 67, 0.15);\n",
              "      fill: #174EA6;\n",
              "    }\n",
              "\n",
              "    [theme=dark] .colab-df-convert {\n",
              "      background-color: #3B4455;\n",
              "      fill: #D2E3FC;\n",
              "    }\n",
              "\n",
              "    [theme=dark] .colab-df-convert:hover {\n",
              "      background-color: #434B5C;\n",
              "      box-shadow: 0px 1px 3px 1px rgba(0, 0, 0, 0.15);\n",
              "      filter: drop-shadow(0px 1px 2px rgba(0, 0, 0, 0.3));\n",
              "      fill: #FFFFFF;\n",
              "    }\n",
              "  </style>\n",
              "\n",
              "      <script>\n",
              "        const buttonEl =\n",
              "          document.querySelector('#df-a1eba6a9-3e80-4236-a370-7c4955c92e3a button.colab-df-convert');\n",
              "        buttonEl.style.display =\n",
              "          google.colab.kernel.accessAllowed ? 'block' : 'none';\n",
              "\n",
              "        async function convertToInteractive(key) {\n",
              "          const element = document.querySelector('#df-a1eba6a9-3e80-4236-a370-7c4955c92e3a');\n",
              "          const dataTable =\n",
              "            await google.colab.kernel.invokeFunction('convertToInteractive',\n",
              "                                                     [key], {});\n",
              "          if (!dataTable) return;\n",
              "\n",
              "          const docLinkHtml = 'Like what you see? Visit the ' +\n",
              "            '<a target=\"_blank\" href=https://colab.research.google.com/notebooks/data_table.ipynb>data table notebook</a>'\n",
              "            + ' to learn more about interactive tables.';\n",
              "          element.innerHTML = '';\n",
              "          dataTable['output_type'] = 'display_data';\n",
              "          await google.colab.output.renderOutput(dataTable, element);\n",
              "          const docLink = document.createElement('div');\n",
              "          docLink.innerHTML = docLinkHtml;\n",
              "          element.appendChild(docLink);\n",
              "        }\n",
              "      </script>\n",
              "    </div>\n",
              "  </div>\n",
              "  "
            ]
          },
          "metadata": {},
          "execution_count": 52
        }
      ]
    },
    {
      "cell_type": "code",
      "source": [
        "pressure.shape"
      ],
      "metadata": {
        "colab": {
          "base_uri": "https://localhost:8080/"
        },
        "id": "JNrqvkEQRJ_A",
        "outputId": "ebacf872-2ba6-4d9b-849c-b27b23374349"
      },
      "execution_count": null,
      "outputs": [
        {
          "output_type": "execute_result",
          "data": {
            "text/plain": [
              "(629, 36)"
            ]
          },
          "metadata": {},
          "execution_count": 49
        }
      ]
    },
    {
      "cell_type": "markdown",
      "source": [
        "**Upsampling**\n",
        "\n",
        "Upsample from 3 day frequency to daily frequency"
      ],
      "metadata": {
        "id": "O4erXE0PRXMK"
      }
    },
    {
      "cell_type": "code",
      "source": [
        "pressure = pressure.resample(\"D\").pad()\n",
        "pressure.head()"
      ],
      "metadata": {
        "colab": {
          "base_uri": "https://localhost:8080/",
          "height": 435
        },
        "id": "K_EDoe-ARfXB",
        "outputId": "d7f0016e-0443-44ca-d039-a7995e598e30"
      },
      "execution_count": null,
      "outputs": [
        {
          "output_type": "execute_result",
          "data": {
            "text/plain": [
              "              Vancouver     Portland  San Francisco      Seattle  Los Angeles  \\\n",
              "datetime                                                                        \n",
              "2012-10-01   933.775862  1022.620690    1010.913793  1031.344828  1011.603448   \n",
              "2012-10-02   933.775862  1022.620690    1010.913793  1031.344828  1011.603448   \n",
              "2012-10-03   933.775862  1022.620690    1010.913793  1031.344828  1011.603448   \n",
              "2012-10-04  1019.083333  1023.041667    1014.694444  1028.305556  1015.555556   \n",
              "2012-10-05  1019.083333  1023.041667    1014.694444  1028.305556  1015.555556   \n",
              "\n",
              "              San Diego    Las Vegas      Phoenix  Albuquerque       Denver  \\\n",
              "datetime                                                                      \n",
              "2012-10-01  1011.948276  1016.293103  1012.068966  1022.517241  1024.051724   \n",
              "2012-10-02  1011.948276  1016.293103  1012.068966  1022.517241  1024.051724   \n",
              "2012-10-03  1011.948276  1016.293103  1012.068966  1022.517241  1024.051724   \n",
              "2012-10-04  1016.277778  1013.194444  1014.097222  1019.972222  1020.666667   \n",
              "2012-10-05  1016.277778  1013.194444  1014.097222  1019.972222  1020.666667   \n",
              "\n",
              "            ...  Philadelphia     New York     Montreal       Boston  \\\n",
              "datetime    ...                                                        \n",
              "2012-10-01  ...   1014.155172  1013.448276   936.534483  1013.672414   \n",
              "2012-10-02  ...   1014.155172  1013.448276   936.534483  1013.672414   \n",
              "2012-10-03  ...   1014.155172  1013.448276   936.534483  1013.672414   \n",
              "2012-10-04  ...   1018.097222  1017.680556  1017.180556  1019.805556   \n",
              "2012-10-05  ...   1018.097222  1017.680556  1017.180556  1019.805556   \n",
              "\n",
              "             Beersheba  Tel Aviv District        Eilat   Haifa  Nahariyya  \\\n",
              "datetime                                                                    \n",
              "2012-10-01  985.068966        1012.965517  1011.827586  1013.0     1013.0   \n",
              "2012-10-02  985.068966        1012.965517  1011.827586  1013.0     1013.0   \n",
              "2012-10-03  985.068966        1012.965517  1011.827586  1013.0     1013.0   \n",
              "2012-10-04  984.930556        1013.083333  1012.611111  1013.0     1013.0   \n",
              "2012-10-05  984.930556        1013.083333  1012.611111  1013.0     1013.0   \n",
              "\n",
              "             Jerusalem  \n",
              "datetime                \n",
              "2012-10-01  990.534483  \n",
              "2012-10-02  990.534483  \n",
              "2012-10-03  990.534483  \n",
              "2012-10-04  990.083333  \n",
              "2012-10-05  990.083333  \n",
              "\n",
              "[5 rows x 36 columns]"
            ],
            "text/html": [
              "\n",
              "  <div id=\"df-c9bf7078-928b-4de3-acd8-621caadeb9a8\">\n",
              "    <div class=\"colab-df-container\">\n",
              "      <div>\n",
              "<style scoped>\n",
              "    .dataframe tbody tr th:only-of-type {\n",
              "        vertical-align: middle;\n",
              "    }\n",
              "\n",
              "    .dataframe tbody tr th {\n",
              "        vertical-align: top;\n",
              "    }\n",
              "\n",
              "    .dataframe thead th {\n",
              "        text-align: right;\n",
              "    }\n",
              "</style>\n",
              "<table border=\"1\" class=\"dataframe\">\n",
              "  <thead>\n",
              "    <tr style=\"text-align: right;\">\n",
              "      <th></th>\n",
              "      <th>Vancouver</th>\n",
              "      <th>Portland</th>\n",
              "      <th>San Francisco</th>\n",
              "      <th>Seattle</th>\n",
              "      <th>Los Angeles</th>\n",
              "      <th>San Diego</th>\n",
              "      <th>Las Vegas</th>\n",
              "      <th>Phoenix</th>\n",
              "      <th>Albuquerque</th>\n",
              "      <th>Denver</th>\n",
              "      <th>...</th>\n",
              "      <th>Philadelphia</th>\n",
              "      <th>New York</th>\n",
              "      <th>Montreal</th>\n",
              "      <th>Boston</th>\n",
              "      <th>Beersheba</th>\n",
              "      <th>Tel Aviv District</th>\n",
              "      <th>Eilat</th>\n",
              "      <th>Haifa</th>\n",
              "      <th>Nahariyya</th>\n",
              "      <th>Jerusalem</th>\n",
              "    </tr>\n",
              "    <tr>\n",
              "      <th>datetime</th>\n",
              "      <th></th>\n",
              "      <th></th>\n",
              "      <th></th>\n",
              "      <th></th>\n",
              "      <th></th>\n",
              "      <th></th>\n",
              "      <th></th>\n",
              "      <th></th>\n",
              "      <th></th>\n",
              "      <th></th>\n",
              "      <th></th>\n",
              "      <th></th>\n",
              "      <th></th>\n",
              "      <th></th>\n",
              "      <th></th>\n",
              "      <th></th>\n",
              "      <th></th>\n",
              "      <th></th>\n",
              "      <th></th>\n",
              "      <th></th>\n",
              "      <th></th>\n",
              "    </tr>\n",
              "  </thead>\n",
              "  <tbody>\n",
              "    <tr>\n",
              "      <th>2012-10-01</th>\n",
              "      <td>933.775862</td>\n",
              "      <td>1022.620690</td>\n",
              "      <td>1010.913793</td>\n",
              "      <td>1031.344828</td>\n",
              "      <td>1011.603448</td>\n",
              "      <td>1011.948276</td>\n",
              "      <td>1016.293103</td>\n",
              "      <td>1012.068966</td>\n",
              "      <td>1022.517241</td>\n",
              "      <td>1024.051724</td>\n",
              "      <td>...</td>\n",
              "      <td>1014.155172</td>\n",
              "      <td>1013.448276</td>\n",
              "      <td>936.534483</td>\n",
              "      <td>1013.672414</td>\n",
              "      <td>985.068966</td>\n",
              "      <td>1012.965517</td>\n",
              "      <td>1011.827586</td>\n",
              "      <td>1013.0</td>\n",
              "      <td>1013.0</td>\n",
              "      <td>990.534483</td>\n",
              "    </tr>\n",
              "    <tr>\n",
              "      <th>2012-10-02</th>\n",
              "      <td>933.775862</td>\n",
              "      <td>1022.620690</td>\n",
              "      <td>1010.913793</td>\n",
              "      <td>1031.344828</td>\n",
              "      <td>1011.603448</td>\n",
              "      <td>1011.948276</td>\n",
              "      <td>1016.293103</td>\n",
              "      <td>1012.068966</td>\n",
              "      <td>1022.517241</td>\n",
              "      <td>1024.051724</td>\n",
              "      <td>...</td>\n",
              "      <td>1014.155172</td>\n",
              "      <td>1013.448276</td>\n",
              "      <td>936.534483</td>\n",
              "      <td>1013.672414</td>\n",
              "      <td>985.068966</td>\n",
              "      <td>1012.965517</td>\n",
              "      <td>1011.827586</td>\n",
              "      <td>1013.0</td>\n",
              "      <td>1013.0</td>\n",
              "      <td>990.534483</td>\n",
              "    </tr>\n",
              "    <tr>\n",
              "      <th>2012-10-03</th>\n",
              "      <td>933.775862</td>\n",
              "      <td>1022.620690</td>\n",
              "      <td>1010.913793</td>\n",
              "      <td>1031.344828</td>\n",
              "      <td>1011.603448</td>\n",
              "      <td>1011.948276</td>\n",
              "      <td>1016.293103</td>\n",
              "      <td>1012.068966</td>\n",
              "      <td>1022.517241</td>\n",
              "      <td>1024.051724</td>\n",
              "      <td>...</td>\n",
              "      <td>1014.155172</td>\n",
              "      <td>1013.448276</td>\n",
              "      <td>936.534483</td>\n",
              "      <td>1013.672414</td>\n",
              "      <td>985.068966</td>\n",
              "      <td>1012.965517</td>\n",
              "      <td>1011.827586</td>\n",
              "      <td>1013.0</td>\n",
              "      <td>1013.0</td>\n",
              "      <td>990.534483</td>\n",
              "    </tr>\n",
              "    <tr>\n",
              "      <th>2012-10-04</th>\n",
              "      <td>1019.083333</td>\n",
              "      <td>1023.041667</td>\n",
              "      <td>1014.694444</td>\n",
              "      <td>1028.305556</td>\n",
              "      <td>1015.555556</td>\n",
              "      <td>1016.277778</td>\n",
              "      <td>1013.194444</td>\n",
              "      <td>1014.097222</td>\n",
              "      <td>1019.972222</td>\n",
              "      <td>1020.666667</td>\n",
              "      <td>...</td>\n",
              "      <td>1018.097222</td>\n",
              "      <td>1017.680556</td>\n",
              "      <td>1017.180556</td>\n",
              "      <td>1019.805556</td>\n",
              "      <td>984.930556</td>\n",
              "      <td>1013.083333</td>\n",
              "      <td>1012.611111</td>\n",
              "      <td>1013.0</td>\n",
              "      <td>1013.0</td>\n",
              "      <td>990.083333</td>\n",
              "    </tr>\n",
              "    <tr>\n",
              "      <th>2012-10-05</th>\n",
              "      <td>1019.083333</td>\n",
              "      <td>1023.041667</td>\n",
              "      <td>1014.694444</td>\n",
              "      <td>1028.305556</td>\n",
              "      <td>1015.555556</td>\n",
              "      <td>1016.277778</td>\n",
              "      <td>1013.194444</td>\n",
              "      <td>1014.097222</td>\n",
              "      <td>1019.972222</td>\n",
              "      <td>1020.666667</td>\n",
              "      <td>...</td>\n",
              "      <td>1018.097222</td>\n",
              "      <td>1017.680556</td>\n",
              "      <td>1017.180556</td>\n",
              "      <td>1019.805556</td>\n",
              "      <td>984.930556</td>\n",
              "      <td>1013.083333</td>\n",
              "      <td>1012.611111</td>\n",
              "      <td>1013.0</td>\n",
              "      <td>1013.0</td>\n",
              "      <td>990.083333</td>\n",
              "    </tr>\n",
              "  </tbody>\n",
              "</table>\n",
              "<p>5 rows × 36 columns</p>\n",
              "</div>\n",
              "      <button class=\"colab-df-convert\" onclick=\"convertToInteractive('df-c9bf7078-928b-4de3-acd8-621caadeb9a8')\"\n",
              "              title=\"Convert this dataframe to an interactive table.\"\n",
              "              style=\"display:none;\">\n",
              "        \n",
              "  <svg xmlns=\"http://www.w3.org/2000/svg\" height=\"24px\"viewBox=\"0 0 24 24\"\n",
              "       width=\"24px\">\n",
              "    <path d=\"M0 0h24v24H0V0z\" fill=\"none\"/>\n",
              "    <path d=\"M18.56 5.44l.94 2.06.94-2.06 2.06-.94-2.06-.94-.94-2.06-.94 2.06-2.06.94zm-11 1L8.5 8.5l.94-2.06 2.06-.94-2.06-.94L8.5 2.5l-.94 2.06-2.06.94zm10 10l.94 2.06.94-2.06 2.06-.94-2.06-.94-.94-2.06-.94 2.06-2.06.94z\"/><path d=\"M17.41 7.96l-1.37-1.37c-.4-.4-.92-.59-1.43-.59-.52 0-1.04.2-1.43.59L10.3 9.45l-7.72 7.72c-.78.78-.78 2.05 0 2.83L4 21.41c.39.39.9.59 1.41.59.51 0 1.02-.2 1.41-.59l7.78-7.78 2.81-2.81c.8-.78.8-2.07 0-2.86zM5.41 20L4 18.59l7.72-7.72 1.47 1.35L5.41 20z\"/>\n",
              "  </svg>\n",
              "      </button>\n",
              "      \n",
              "  <style>\n",
              "    .colab-df-container {\n",
              "      display:flex;\n",
              "      flex-wrap:wrap;\n",
              "      gap: 12px;\n",
              "    }\n",
              "\n",
              "    .colab-df-convert {\n",
              "      background-color: #E8F0FE;\n",
              "      border: none;\n",
              "      border-radius: 50%;\n",
              "      cursor: pointer;\n",
              "      display: none;\n",
              "      fill: #1967D2;\n",
              "      height: 32px;\n",
              "      padding: 0 0 0 0;\n",
              "      width: 32px;\n",
              "    }\n",
              "\n",
              "    .colab-df-convert:hover {\n",
              "      background-color: #E2EBFA;\n",
              "      box-shadow: 0px 1px 2px rgba(60, 64, 67, 0.3), 0px 1px 3px 1px rgba(60, 64, 67, 0.15);\n",
              "      fill: #174EA6;\n",
              "    }\n",
              "\n",
              "    [theme=dark] .colab-df-convert {\n",
              "      background-color: #3B4455;\n",
              "      fill: #D2E3FC;\n",
              "    }\n",
              "\n",
              "    [theme=dark] .colab-df-convert:hover {\n",
              "      background-color: #434B5C;\n",
              "      box-shadow: 0px 1px 3px 1px rgba(0, 0, 0, 0.15);\n",
              "      filter: drop-shadow(0px 1px 2px rgba(0, 0, 0, 0.3));\n",
              "      fill: #FFFFFF;\n",
              "    }\n",
              "  </style>\n",
              "\n",
              "      <script>\n",
              "        const buttonEl =\n",
              "          document.querySelector('#df-c9bf7078-928b-4de3-acd8-621caadeb9a8 button.colab-df-convert');\n",
              "        buttonEl.style.display =\n",
              "          google.colab.kernel.accessAllowed ? 'block' : 'none';\n",
              "\n",
              "        async function convertToInteractive(key) {\n",
              "          const element = document.querySelector('#df-c9bf7078-928b-4de3-acd8-621caadeb9a8');\n",
              "          const dataTable =\n",
              "            await google.colab.kernel.invokeFunction('convertToInteractive',\n",
              "                                                     [key], {});\n",
              "          if (!dataTable) return;\n",
              "\n",
              "          const docLinkHtml = 'Like what you see? Visit the ' +\n",
              "            '<a target=\"_blank\" href=https://colab.research.google.com/notebooks/data_table.ipynb>data table notebook</a>'\n",
              "            + ' to learn more about interactive tables.';\n",
              "          element.innerHTML = '';\n",
              "          dataTable['output_type'] = 'display_data';\n",
              "          await google.colab.output.renderOutput(dataTable, element);\n",
              "          const docLink = document.createElement('div');\n",
              "          docLink.innerHTML = docLinkHtml;\n",
              "          element.appendChild(docLink);\n",
              "        }\n",
              "      </script>\n",
              "    </div>\n",
              "  </div>\n",
              "  "
            ]
          },
          "metadata": {},
          "execution_count": 53
        }
      ]
    },
    {
      "cell_type": "code",
      "source": [
        "pressure.shape"
      ],
      "metadata": {
        "colab": {
          "base_uri": "https://localhost:8080/"
        },
        "id": "K8lfEMG2RqzI",
        "outputId": "91cb4090-1a97-4231-f8c5-62a5d6b134eb"
      },
      "execution_count": null,
      "outputs": [
        {
          "output_type": "execute_result",
          "data": {
            "text/plain": [
              "(1885, 36)"
            ]
          },
          "metadata": {},
          "execution_count": 54
        }
      ]
    }
  ]
}